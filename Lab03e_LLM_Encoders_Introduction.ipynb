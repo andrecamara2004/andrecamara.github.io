{
  "cells": [
    {
      "cell_type": "markdown",
      "metadata": {
        "id": "view-in-github",
        "colab_type": "text"
      },
      "source": [
        "<a href=\"https://colab.research.google.com/github/andrecamara2004/andrecamara2004.github.io/blob/main/Lab03e_LLM_Encoders_Introduction.ipynb\" target=\"_parent\"><img src=\"https://colab.research.google.com/assets/colab-badge.svg\" alt=\"Open In Colab\"/></a>"
      ]
    },
    {
      "metadata": {
        "id": "3bf643b772cea124"
      },
      "cell_type": "markdown",
      "source": [
        "# Introduction to the Encoder in Attention Mechanism\n",
        "\n",
        "In this notebook, we will learn the fundamentals of the encoder and the attention mechanism using PyTorch. We will explore key concepts such as projection layers, dot products for attention scores, softmax for normalization, and weighted sums of values. By the end of this notebook, you'll have hands-on experience implementing these concepts and understanding how the encoder works in a neural network architecture like transformers.\n",
        "\n",
        "\n"
      ],
      "id": "3bf643b772cea124"
    },
    {
      "metadata": {
        "id": "183e79eac0409aea"
      },
      "cell_type": "markdown",
      "source": [
        "## 1. Basic Linear Layer Exercise\n",
        "\n",
        "In the encoder, we use projection layers to project the input embeddings into a new space. This is done through a linear transformation.\n",
        "\n",
        "### Task:\n",
        "Implement a simple linear layer in PyTorch to project an input embedding into a new space (simulating the projection for Queries, Keys, or Values).\n",
        "\n",
        "\n",
        "\n"
      ],
      "id": "183e79eac0409aea"
    },
    {
      "metadata": {
        "colab": {
          "base_uri": "https://localhost:8080/"
        },
        "id": "11f8833dc8b64113",
        "outputId": "7ca1d4c4-20ca-409d-9dda-e949cf6ea3d9"
      },
      "cell_type": "code",
      "outputs": [
        {
          "output_type": "stream",
          "name": "stdout",
          "text": [
            "torch.Size([3, 4, 6])\n"
          ]
        }
      ],
      "execution_count": 1,
      "source": [
        "import torch\n",
        "import torch.nn as nn\n",
        "\n",
        "# Example input: A batch of 3 sequences, each of length 4, with 5-dimensional embeddings\n",
        "input_embeddings = torch.randn(3, 4, 5)  # Shape: [batch_size, seq_length, embedding_dim]\n",
        "\n",
        "# Define a projection layer (linear transformation)\n",
        "# Input size is 5, output size is 6\n",
        "projection_layer  = nn.Linear(5, 6)\n",
        "\n",
        "# Apply projection layer to the input embeddings (like Q or K)\n",
        "projected = projection_layer(input_embeddings)\n",
        "print(projected.shape)  # Output should have shape: [3, 4, 6]\n"
      ],
      "id": "11f8833dc8b64113"
    },
    {
      "metadata": {
        "id": "a94332b650bffed6"
      },
      "cell_type": "markdown",
      "source": [
        "## 2. Dot Product for Attention Calculation\n",
        "In the attention mechanism, we calculate the similarity between the queries and keys using the dot product.\n",
        "\n",
        "### Task:\n",
        "Compute the similarity score between queries and keys using the dot product.\n",
        "\n"
      ],
      "id": "a94332b650bffed6"
    },
    {
      "metadata": {
        "colab": {
          "base_uri": "https://localhost:8080/"
        },
        "id": "fc124cdf84cf7d4d",
        "outputId": "457bb8d2-c833-4015-ed41-ca4df768d375"
      },
      "cell_type": "code",
      "outputs": [
        {
          "output_type": "stream",
          "name": "stdout",
          "text": [
            "torch.Size([4, 4])\n"
          ]
        }
      ],
      "execution_count": 11,
      "source": [
        "import torch\n",
        "\n",
        "# Example query and key vectors (after projection)\n",
        "queries = torch.randn(4, 6)  # Shape: [seq_length, d_k]\n",
        "keys = torch.randn(4, 6)     # Shape: [seq_length, d_k]\n",
        "\n",
        "#DOT PRODUCT HERE\n",
        "attention_scores = torch.matmul(queries, keys.transpose(-2, 1))\n",
        "print(attention_scores.shape)  # Output: [4, 4]\n"
      ],
      "id": "fc124cdf84cf7d4d"
    },
    {
      "metadata": {
        "id": "1cb1e19cdf68d5da"
      },
      "cell_type": "markdown",
      "source": [
        "## 3. Softmax to Normalize Attention Scores\n",
        "The softmax function normalizes the attention scores, turning them into probabilities that sum to 1. This step is important for focusing the attention on the most relevant parts of the sequence.\n",
        "\n",
        "### Task:\n",
        "Apply softmax to the attention scores to get the attention weights.\n"
      ],
      "id": "1cb1e19cdf68d5da"
    },
    {
      "metadata": {
        "colab": {
          "base_uri": "https://localhost:8080/"
        },
        "id": "6fbd0c1d7ffb35c8",
        "outputId": "66f4cbff-95ae-4860-ca60-3bc53c1fb7f7"
      },
      "cell_type": "code",
      "outputs": [
        {
          "output_type": "stream",
          "name": "stdout",
          "text": [
            "torch.Size([3, 4, 4])\n"
          ]
        }
      ],
      "execution_count": 20,
      "source": [
        "import torch\n",
        "import torch.nn.functional as F\n",
        "\n",
        "# Example attention scores (e.g., dot product result)\n",
        "attention_scores = torch.randn(3, 4, 4)  # Shape: [batch_size, seq_length, seq_length]\n",
        "\n",
        "# Apply softmax to normalize the attention scores\n",
        "# Softmax along the last dimension\n",
        "attention_weights = F.softmax(attention_scores, dim=-1)\n",
        "print(attention_weights.shape)  # Output: [3, 4, 4]\n"
      ],
      "id": "6fbd0c1d7ffb35c8"
    },
    {
      "metadata": {
        "id": "a9fdf0a668167537"
      },
      "cell_type": "markdown",
      "source": [
        "## 5. Full Attention Mechanism\n",
        "\n",
        "Now, we combine the previous steps to create the full scaled dot-product attention mechanism. This function computes the attention output by performing the following operations:\n",
        "\n",
        "1. Compute dot product between queries and keys.\n",
        "2. Apply softmax to normalize attention scores.\n",
        "3. Use the attention weights to compute the weighted sum of values.\n",
        "\n",
        "### Task:\n",
        "Implement the full attention mechanism by combining the previous operations.\n",
        "\n"
      ],
      "id": "a9fdf0a668167537"
    },
    {
      "cell_type": "code",
      "source": [
        "sentece_input = torch.randn(4, 6)  # [seq_len, d_k]\n"
      ],
      "metadata": {
        "id": "EVMDVk_pYMRh"
      },
      "id": "EVMDVk_pYMRh",
      "execution_count": 14,
      "outputs": []
    },
    {
      "metadata": {
        "ExecuteTime": {
          "end_time": "2025-01-20T15:25:02.348792Z",
          "start_time": "2025-01-20T15:25:02.344620Z"
        },
        "colab": {
          "base_uri": "https://localhost:8080/"
        },
        "id": "1673e08955955cdb",
        "outputId": "f1eb4a14-17a8-41eb-e457-ba8fd6992865"
      },
      "cell_type": "code",
      "source": [
        "import torch\n",
        "import torch.nn as nn\n",
        "import torch.nn.functional as F\n",
        "\n",
        "# Example input\n",
        "sentece_input = torch.randn(4, 6)  # [seq_len, d_k]\n",
        "d_k = 6\n",
        "\n",
        "# Example layers\n",
        "query_layer = nn.Linear(6, 6)\n",
        "key_layer = nn.Linear(6, 6)\n",
        "value_layer = nn.Linear(6, 6)\n",
        "\n",
        "# Apply the projections\n",
        "# Project input into query space\n",
        "query = query_layer(sentece_input)\n",
        "\n",
        "# Project input into key space\n",
        "key = key_layer(sentece_input)\n",
        "\n",
        "# Project input into value space\n",
        "value = value_layer(sentece_input)\n",
        "\n",
        "# Attention Scores: Scaled dot-product attention\n",
        "attention_scores = torch.matmul(query, key.transpose(-2, -1)) / torch.sqrt(torch.tensor(d_k))\n",
        "\n",
        "# Softmax to get attention weights\n",
        "# Normalize along last dimension USE: F.softmax\n",
        "attention_weights = F.softmax(attention_scores, dim=-1)\n",
        "\n",
        "# Final scores\n",
        "attention_output = torch.matmul(attention_weights, value)\n",
        "\n",
        "print(attention_output)\n"
      ],
      "id": "1673e08955955cdb",
      "outputs": [
        {
          "output_type": "stream",
          "name": "stdout",
          "text": [
            "tensor([[ 0.8180, -0.7889, -0.1444, -0.4964, -0.0843,  0.5619],\n",
            "        [ 0.5245, -0.5046,  0.0275, -0.5600, -0.1073,  0.2992],\n",
            "        [ 0.9845, -0.9398, -0.1688, -0.5516, -0.1224,  0.6697],\n",
            "        [ 0.8358, -0.7993, -0.1078, -0.5511, -0.1159,  0.5512]],\n",
            "       grad_fn=<MmBackward0>)\n"
          ]
        }
      ],
      "execution_count": 19
    }
  ],
  "metadata": {
    "kernelspec": {
      "display_name": "Python 3",
      "language": "python",
      "name": "python3"
    },
    "language_info": {
      "codemirror_mode": {
        "name": "ipython",
        "version": 2
      },
      "file_extension": ".py",
      "mimetype": "text/x-python",
      "name": "python",
      "nbconvert_exporter": "python",
      "pygments_lexer": "ipython2",
      "version": "2.7.6"
    },
    "colab": {
      "provenance": [],
      "include_colab_link": true
    }
  },
  "nbformat": 4,
  "nbformat_minor": 5
}