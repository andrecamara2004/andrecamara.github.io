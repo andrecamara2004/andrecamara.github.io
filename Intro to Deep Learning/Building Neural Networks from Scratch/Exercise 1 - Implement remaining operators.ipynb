{
  "cells": [
    {
      "cell_type": "markdown",
      "metadata": {
        "id": "TbHZOLTnAMF_"
      },
      "source": [
        "# Imports"
      ]
    },
    {
      "cell_type": "code",
      "execution_count": 1,
      "metadata": {
        "id": "Ox8HBEkNAMGA"
      },
      "outputs": [],
      "source": [
        "import math\n",
        "import numpy as np\n",
        "import matplotlib.pyplot as plt\n",
        "import graphviz\n",
        "\n",
        "%matplotlib inline"
      ]
    },
    {
      "cell_type": "markdown",
      "metadata": {
        "id": "1_djKFq7AMGB"
      },
      "source": [
        "# Utils"
      ]
    },
    {
      "cell_type": "markdown",
      "metadata": {
        "id": "8G1KNkr9AMGB"
      },
      "source": [
        "# Exercise"
      ]
    },
    {
      "cell_type": "markdown",
      "metadata": {
        "id": "KhpxnBwsAMGC"
      },
      "source": [
        "We just implemented addition with `__add__`. Your goal is to modify this class to implement subtraction, multiplication, and division."
      ]
    },
    {
      "cell_type": "code",
      "execution_count": 5,
      "metadata": {
        "id": "ZsERP4e_AMGC"
      },
      "outputs": [],
      "source": [
        "class Value:\n",
        "    \"\"\" stores a single scalar value and its gradient \"\"\"\n",
        "\n",
        "    def __init__(self, data):\n",
        "        self.data = data\n",
        "\n",
        "    def __repr__(self):\n",
        "        return f\"Value({self.data})\"\n",
        "\n",
        "    def __add__(self, other: \"Value\"):\n",
        "        return Value(self.data + other.data)\n",
        "\n",
        "    def __mul__(self, other: \"Value\"):\n",
        "        return Value(self.data * other.data)\n",
        "\n",
        "    def __sub__(self, other: \"Value\"):\n",
        "        return Value(self.data - other.data)\n",
        "\n",
        "    def __truediv__(self, other: \"Value\"):\n",
        "        return Value(self.data / other.data)\n",
        ""
      ]
    },
    {
      "cell_type": "markdown",
      "metadata": {
        "id": "kWTyvnqaAMGD"
      },
      "source": [
        "test"
      ]
    },
    {
      "cell_type": "code",
      "execution_count": 6,
      "metadata": {
        "id": "hNbjc07cAMGD",
        "outputId": "c5b10b8c-7d6e-4ee4-a24c-242e25d7c6c6",
        "colab": {
          "base_uri": "https://localhost:8080/"
        }
      },
      "outputs": [
        {
          "output_type": "stream",
          "name": "stdout",
          "text": [
            "You got multiplication right!\n",
            "You got division right!\n",
            "You got subtraction right!\n"
          ]
        }
      ],
      "source": [
        "a = Value(3)\n",
        "b = Value(6)\n",
        "\n",
        "try:\n",
        "    assert (a * b).data == 18, 'Something Went wrong with multiplication'\n",
        "    print('You got multiplication right!')\n",
        "except:\n",
        "    print('Something Went wrong with multiplication')\n",
        "\n",
        "try:\n",
        "    assert (b / a).data == 2, 'Something Went wrong with division'\n",
        "    print('You got division right!')\n",
        "except:\n",
        "    print('Something Went wrong with division')\n",
        "\n",
        "try:\n",
        "    assert (a - b).data == -3, 'Something Went wrong with subtraction'\n",
        "    print('You got subtraction right!')\n",
        "except:\n",
        "    print('Something Went wrong with subtraction')"
      ]
    }
  ],
  "metadata": {
    "kernelspec": {
      "display_name": "MLCatolica24",
      "language": "python",
      "name": "python3"
    },
    "language_info": {
      "codemirror_mode": {
        "name": "ipython",
        "version": 3
      },
      "file_extension": ".py",
      "mimetype": "text/x-python",
      "name": "python",
      "nbconvert_exporter": "python",
      "pygments_lexer": "ipython3",
      "version": "3.12.3"
    },
    "colab": {
      "provenance": []
    }
  },
  "nbformat": 4,
  "nbformat_minor": 0
}