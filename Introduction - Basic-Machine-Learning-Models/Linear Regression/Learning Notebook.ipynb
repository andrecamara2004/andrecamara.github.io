{
  "cells": [
    {
      "cell_type": "markdown",
      "id": "67511d70-3740-470c-a2cf-4bbb44d1a885",
      "metadata": {
        "id": "67511d70-3740-470c-a2cf-4bbb44d1a885"
      },
      "source": [
        "# Linear Regression\n",
        "\n",
        "In this notebook you will learn:\n",
        "1. How to load a data file\n",
        "2. How to use this data to train a simple machine learning regression model\n",
        "3. How to evaluate the performance of your model\n",
        "4. How to interpret your model\n",
        "\n",
        "\n",
        "## Why Linear Regression\n",
        "\n",
        "1. Simple model\n",
        "2. Good interpretation of the coefficients\n",
        "3. Computationally efficient\n",
        "4. Low risk of overfitting\n",
        "5. 5. Great baseline model for regression"
      ]
    },
    {
      "cell_type": "markdown",
      "id": "a7eccada-7833-4518-963a-9d961a050fd8",
      "metadata": {
        "id": "a7eccada-7833-4518-963a-9d961a050fd8"
      },
      "source": [
        "# Imports"
      ]
    },
    {
      "cell_type": "code",
      "execution_count": 3,
      "id": "43e57b59-665c-414a-bf68-6c7fb26f8d95",
      "metadata": {
        "id": "43e57b59-665c-414a-bf68-6c7fb26f8d95"
      },
      "outputs": [],
      "source": [
        "import os\n",
        "\n",
        "import pandas as pd\n",
        "import numpy as np\n",
        "\n",
        "from sklearn.linear_model import LinearRegression"
      ]
    },
    {
      "cell_type": "markdown",
      "id": "fb594ece-dabe-4c1e-bc30-e7e341c04075",
      "metadata": {
        "id": "fb594ece-dabe-4c1e-bc30-e7e341c04075"
      },
      "source": [
        "# Read the data"
      ]
    },
    {
      "cell_type": "code",
      "execution_count": 4,
      "id": "0755cab3",
      "metadata": {
        "id": "0755cab3"
      },
      "outputs": [],
      "source": [
        "# data paths\n",
        "local_path = os.path.join('..','data','housing.csv')\n",
        "url = 'https://raw.githubusercontent.com/samsung-ai-course/6-7-edition/refs/heads/main/Introduction%20-%20Basic-Machine-Learning-Models/data/housing.csv'"
      ]
    },
    {
      "cell_type": "code",
      "execution_count": 5,
      "id": "7334ba80-5dd9-41fb-af24-f1405870ebcf",
      "metadata": {
        "id": "7334ba80-5dd9-41fb-af24-f1405870ebcf"
      },
      "outputs": [],
      "source": [
        "df = pd.read_csv(url)"
      ]
    },
    {
      "cell_type": "code",
      "execution_count": 6,
      "id": "4b93a5fe-896e-4493-a16b-68d5ad63146e",
      "metadata": {
        "colab": {
          "base_uri": "https://localhost:8080/",
          "height": 206
        },
        "id": "4b93a5fe-896e-4493-a16b-68d5ad63146e",
        "outputId": "fd83e578-c1df-40bb-e7ef-1d957a43b256"
      },
      "outputs": [
        {
          "output_type": "execute_result",
          "data": {
            "text/plain": [
              "      RM  LSTAT  PTRATIO      MEDV\n",
              "0  6.575   4.98     15.3  504000.0\n",
              "1  6.421   9.14     17.8  453600.0\n",
              "2  7.185   4.03     17.8  728700.0\n",
              "3  6.998   2.94     18.7  701400.0\n",
              "4  7.147   5.33     18.7  760200.0"
            ],
            "text/html": [
              "\n",
              "  <div id=\"df-56b87acb-3eb4-4754-999b-6f449eeb41a6\" class=\"colab-df-container\">\n",
              "    <div>\n",
              "<style scoped>\n",
              "    .dataframe tbody tr th:only-of-type {\n",
              "        vertical-align: middle;\n",
              "    }\n",
              "\n",
              "    .dataframe tbody tr th {\n",
              "        vertical-align: top;\n",
              "    }\n",
              "\n",
              "    .dataframe thead th {\n",
              "        text-align: right;\n",
              "    }\n",
              "</style>\n",
              "<table border=\"1\" class=\"dataframe\">\n",
              "  <thead>\n",
              "    <tr style=\"text-align: right;\">\n",
              "      <th></th>\n",
              "      <th>RM</th>\n",
              "      <th>LSTAT</th>\n",
              "      <th>PTRATIO</th>\n",
              "      <th>MEDV</th>\n",
              "    </tr>\n",
              "  </thead>\n",
              "  <tbody>\n",
              "    <tr>\n",
              "      <th>0</th>\n",
              "      <td>6.575</td>\n",
              "      <td>4.98</td>\n",
              "      <td>15.3</td>\n",
              "      <td>504000.0</td>\n",
              "    </tr>\n",
              "    <tr>\n",
              "      <th>1</th>\n",
              "      <td>6.421</td>\n",
              "      <td>9.14</td>\n",
              "      <td>17.8</td>\n",
              "      <td>453600.0</td>\n",
              "    </tr>\n",
              "    <tr>\n",
              "      <th>2</th>\n",
              "      <td>7.185</td>\n",
              "      <td>4.03</td>\n",
              "      <td>17.8</td>\n",
              "      <td>728700.0</td>\n",
              "    </tr>\n",
              "    <tr>\n",
              "      <th>3</th>\n",
              "      <td>6.998</td>\n",
              "      <td>2.94</td>\n",
              "      <td>18.7</td>\n",
              "      <td>701400.0</td>\n",
              "    </tr>\n",
              "    <tr>\n",
              "      <th>4</th>\n",
              "      <td>7.147</td>\n",
              "      <td>5.33</td>\n",
              "      <td>18.7</td>\n",
              "      <td>760200.0</td>\n",
              "    </tr>\n",
              "  </tbody>\n",
              "</table>\n",
              "</div>\n",
              "    <div class=\"colab-df-buttons\">\n",
              "\n",
              "  <div class=\"colab-df-container\">\n",
              "    <button class=\"colab-df-convert\" onclick=\"convertToInteractive('df-56b87acb-3eb4-4754-999b-6f449eeb41a6')\"\n",
              "            title=\"Convert this dataframe to an interactive table.\"\n",
              "            style=\"display:none;\">\n",
              "\n",
              "  <svg xmlns=\"http://www.w3.org/2000/svg\" height=\"24px\" viewBox=\"0 -960 960 960\">\n",
              "    <path d=\"M120-120v-720h720v720H120Zm60-500h600v-160H180v160Zm220 220h160v-160H400v160Zm0 220h160v-160H400v160ZM180-400h160v-160H180v160Zm440 0h160v-160H620v160ZM180-180h160v-160H180v160Zm440 0h160v-160H620v160Z\"/>\n",
              "  </svg>\n",
              "    </button>\n",
              "\n",
              "  <style>\n",
              "    .colab-df-container {\n",
              "      display:flex;\n",
              "      gap: 12px;\n",
              "    }\n",
              "\n",
              "    .colab-df-convert {\n",
              "      background-color: #E8F0FE;\n",
              "      border: none;\n",
              "      border-radius: 50%;\n",
              "      cursor: pointer;\n",
              "      display: none;\n",
              "      fill: #1967D2;\n",
              "      height: 32px;\n",
              "      padding: 0 0 0 0;\n",
              "      width: 32px;\n",
              "    }\n",
              "\n",
              "    .colab-df-convert:hover {\n",
              "      background-color: #E2EBFA;\n",
              "      box-shadow: 0px 1px 2px rgba(60, 64, 67, 0.3), 0px 1px 3px 1px rgba(60, 64, 67, 0.15);\n",
              "      fill: #174EA6;\n",
              "    }\n",
              "\n",
              "    .colab-df-buttons div {\n",
              "      margin-bottom: 4px;\n",
              "    }\n",
              "\n",
              "    [theme=dark] .colab-df-convert {\n",
              "      background-color: #3B4455;\n",
              "      fill: #D2E3FC;\n",
              "    }\n",
              "\n",
              "    [theme=dark] .colab-df-convert:hover {\n",
              "      background-color: #434B5C;\n",
              "      box-shadow: 0px 1px 3px 1px rgba(0, 0, 0, 0.15);\n",
              "      filter: drop-shadow(0px 1px 2px rgba(0, 0, 0, 0.3));\n",
              "      fill: #FFFFFF;\n",
              "    }\n",
              "  </style>\n",
              "\n",
              "    <script>\n",
              "      const buttonEl =\n",
              "        document.querySelector('#df-56b87acb-3eb4-4754-999b-6f449eeb41a6 button.colab-df-convert');\n",
              "      buttonEl.style.display =\n",
              "        google.colab.kernel.accessAllowed ? 'block' : 'none';\n",
              "\n",
              "      async function convertToInteractive(key) {\n",
              "        const element = document.querySelector('#df-56b87acb-3eb4-4754-999b-6f449eeb41a6');\n",
              "        const dataTable =\n",
              "          await google.colab.kernel.invokeFunction('convertToInteractive',\n",
              "                                                    [key], {});\n",
              "        if (!dataTable) return;\n",
              "\n",
              "        const docLinkHtml = 'Like what you see? Visit the ' +\n",
              "          '<a target=\"_blank\" href=https://colab.research.google.com/notebooks/data_table.ipynb>data table notebook</a>'\n",
              "          + ' to learn more about interactive tables.';\n",
              "        element.innerHTML = '';\n",
              "        dataTable['output_type'] = 'display_data';\n",
              "        await google.colab.output.renderOutput(dataTable, element);\n",
              "        const docLink = document.createElement('div');\n",
              "        docLink.innerHTML = docLinkHtml;\n",
              "        element.appendChild(docLink);\n",
              "      }\n",
              "    </script>\n",
              "  </div>\n",
              "\n",
              "\n",
              "<div id=\"df-f8dc1c39-9d39-48e4-9fb3-aded1d1cec99\">\n",
              "  <button class=\"colab-df-quickchart\" onclick=\"quickchart('df-f8dc1c39-9d39-48e4-9fb3-aded1d1cec99')\"\n",
              "            title=\"Suggest charts\"\n",
              "            style=\"display:none;\">\n",
              "\n",
              "<svg xmlns=\"http://www.w3.org/2000/svg\" height=\"24px\"viewBox=\"0 0 24 24\"\n",
              "     width=\"24px\">\n",
              "    <g>\n",
              "        <path d=\"M19 3H5c-1.1 0-2 .9-2 2v14c0 1.1.9 2 2 2h14c1.1 0 2-.9 2-2V5c0-1.1-.9-2-2-2zM9 17H7v-7h2v7zm4 0h-2V7h2v10zm4 0h-2v-4h2v4z\"/>\n",
              "    </g>\n",
              "</svg>\n",
              "  </button>\n",
              "\n",
              "<style>\n",
              "  .colab-df-quickchart {\n",
              "      --bg-color: #E8F0FE;\n",
              "      --fill-color: #1967D2;\n",
              "      --hover-bg-color: #E2EBFA;\n",
              "      --hover-fill-color: #174EA6;\n",
              "      --disabled-fill-color: #AAA;\n",
              "      --disabled-bg-color: #DDD;\n",
              "  }\n",
              "\n",
              "  [theme=dark] .colab-df-quickchart {\n",
              "      --bg-color: #3B4455;\n",
              "      --fill-color: #D2E3FC;\n",
              "      --hover-bg-color: #434B5C;\n",
              "      --hover-fill-color: #FFFFFF;\n",
              "      --disabled-bg-color: #3B4455;\n",
              "      --disabled-fill-color: #666;\n",
              "  }\n",
              "\n",
              "  .colab-df-quickchart {\n",
              "    background-color: var(--bg-color);\n",
              "    border: none;\n",
              "    border-radius: 50%;\n",
              "    cursor: pointer;\n",
              "    display: none;\n",
              "    fill: var(--fill-color);\n",
              "    height: 32px;\n",
              "    padding: 0;\n",
              "    width: 32px;\n",
              "  }\n",
              "\n",
              "  .colab-df-quickchart:hover {\n",
              "    background-color: var(--hover-bg-color);\n",
              "    box-shadow: 0 1px 2px rgba(60, 64, 67, 0.3), 0 1px 3px 1px rgba(60, 64, 67, 0.15);\n",
              "    fill: var(--button-hover-fill-color);\n",
              "  }\n",
              "\n",
              "  .colab-df-quickchart-complete:disabled,\n",
              "  .colab-df-quickchart-complete:disabled:hover {\n",
              "    background-color: var(--disabled-bg-color);\n",
              "    fill: var(--disabled-fill-color);\n",
              "    box-shadow: none;\n",
              "  }\n",
              "\n",
              "  .colab-df-spinner {\n",
              "    border: 2px solid var(--fill-color);\n",
              "    border-color: transparent;\n",
              "    border-bottom-color: var(--fill-color);\n",
              "    animation:\n",
              "      spin 1s steps(1) infinite;\n",
              "  }\n",
              "\n",
              "  @keyframes spin {\n",
              "    0% {\n",
              "      border-color: transparent;\n",
              "      border-bottom-color: var(--fill-color);\n",
              "      border-left-color: var(--fill-color);\n",
              "    }\n",
              "    20% {\n",
              "      border-color: transparent;\n",
              "      border-left-color: var(--fill-color);\n",
              "      border-top-color: var(--fill-color);\n",
              "    }\n",
              "    30% {\n",
              "      border-color: transparent;\n",
              "      border-left-color: var(--fill-color);\n",
              "      border-top-color: var(--fill-color);\n",
              "      border-right-color: var(--fill-color);\n",
              "    }\n",
              "    40% {\n",
              "      border-color: transparent;\n",
              "      border-right-color: var(--fill-color);\n",
              "      border-top-color: var(--fill-color);\n",
              "    }\n",
              "    60% {\n",
              "      border-color: transparent;\n",
              "      border-right-color: var(--fill-color);\n",
              "    }\n",
              "    80% {\n",
              "      border-color: transparent;\n",
              "      border-right-color: var(--fill-color);\n",
              "      border-bottom-color: var(--fill-color);\n",
              "    }\n",
              "    90% {\n",
              "      border-color: transparent;\n",
              "      border-bottom-color: var(--fill-color);\n",
              "    }\n",
              "  }\n",
              "</style>\n",
              "\n",
              "  <script>\n",
              "    async function quickchart(key) {\n",
              "      const quickchartButtonEl =\n",
              "        document.querySelector('#' + key + ' button');\n",
              "      quickchartButtonEl.disabled = true;  // To prevent multiple clicks.\n",
              "      quickchartButtonEl.classList.add('colab-df-spinner');\n",
              "      try {\n",
              "        const charts = await google.colab.kernel.invokeFunction(\n",
              "            'suggestCharts', [key], {});\n",
              "      } catch (error) {\n",
              "        console.error('Error during call to suggestCharts:', error);\n",
              "      }\n",
              "      quickchartButtonEl.classList.remove('colab-df-spinner');\n",
              "      quickchartButtonEl.classList.add('colab-df-quickchart-complete');\n",
              "    }\n",
              "    (() => {\n",
              "      let quickchartButtonEl =\n",
              "        document.querySelector('#df-f8dc1c39-9d39-48e4-9fb3-aded1d1cec99 button');\n",
              "      quickchartButtonEl.style.display =\n",
              "        google.colab.kernel.accessAllowed ? 'block' : 'none';\n",
              "    })();\n",
              "  </script>\n",
              "</div>\n",
              "\n",
              "    </div>\n",
              "  </div>\n"
            ],
            "application/vnd.google.colaboratory.intrinsic+json": {
              "type": "dataframe",
              "variable_name": "df",
              "summary": "{\n  \"name\": \"df\",\n  \"rows\": 489,\n  \"fields\": [\n    {\n      \"column\": \"RM\",\n      \"properties\": {\n        \"dtype\": \"number\",\n        \"std\": 0.6436497627572431,\n        \"min\": 3.561,\n        \"max\": 8.398,\n        \"num_unique_values\": 430,\n        \"samples\": [\n          5.67,\n          6.232,\n          6.8\n        ],\n        \"semantic_type\": \"\",\n        \"description\": \"\"\n      }\n    },\n    {\n      \"column\": \"LSTAT\",\n      \"properties\": {\n        \"dtype\": \"number\",\n        \"std\": 7.081989789065134,\n        \"min\": 1.98,\n        \"max\": 37.97,\n        \"num_unique_values\": 442,\n        \"samples\": [\n          12.73,\n          4.14,\n          5.52\n        ],\n        \"semantic_type\": \"\",\n        \"description\": \"\"\n      }\n    },\n    {\n      \"column\": \"PTRATIO\",\n      \"properties\": {\n        \"dtype\": \"number\",\n        \"std\": 2.1112675026309873,\n        \"min\": 12.6,\n        \"max\": 22.0,\n        \"num_unique_values\": 44,\n        \"samples\": [\n          19.6,\n          16.6,\n          15.6\n        ],\n        \"semantic_type\": \"\",\n        \"description\": \"\"\n      }\n    },\n    {\n      \"column\": \"MEDV\",\n      \"properties\": {\n        \"dtype\": \"number\",\n        \"std\": 165340.27765266786,\n        \"min\": 105000.0,\n        \"max\": 1024800.0,\n        \"num_unique_values\": 228,\n        \"samples\": [\n          296100.0,\n          472500.0,\n          396900.0\n        ],\n        \"semantic_type\": \"\",\n        \"description\": \"\"\n      }\n    }\n  ]\n}"
            }
          },
          "metadata": {},
          "execution_count": 6
        }
      ],
      "source": [
        "df.head(5)"
      ]
    },
    {
      "cell_type": "code",
      "execution_count": 7,
      "id": "6bd595a2-0a3a-46df-a240-3c2baaec636d",
      "metadata": {
        "colab": {
          "base_uri": "https://localhost:8080/"
        },
        "id": "6bd595a2-0a3a-46df-a240-3c2baaec636d",
        "outputId": "89108fb3-0a4c-4837-9ece-81be69cdbb07"
      },
      "outputs": [
        {
          "output_type": "execute_result",
          "data": {
            "text/plain": [
              "(489, 4)"
            ]
          },
          "metadata": {},
          "execution_count": 7
        }
      ],
      "source": [
        "df.shape"
      ]
    },
    {
      "cell_type": "markdown",
      "id": "aa7d046d-2c2a-4231-958d-fbc229a6d41e",
      "metadata": {
        "id": "aa7d046d-2c2a-4231-958d-fbc229a6d41e"
      },
      "source": [
        "There are 489 rows and 4 columns in this dataset"
      ]
    },
    {
      "cell_type": "markdown",
      "id": "c64ab08f-76cd-4cd3-a0c0-54d83f8e734a",
      "metadata": {
        "id": "c64ab08f-76cd-4cd3-a0c0-54d83f8e734a"
      },
      "source": [
        "## Some documentation about this data"
      ]
    },
    {
      "cell_type": "markdown",
      "id": "6ff75fbc-21a5-4a27-af93-4cf1551062df",
      "metadata": {
        "id": "6ff75fbc-21a5-4a27-af93-4cf1551062df"
      },
      "source": [
        "Dataset taken from Boston census data. Contains socio-economic data as well as value of houses in each area"
      ]
    },
    {
      "cell_type": "markdown",
      "id": "6ac433a1-9557-4cc3-8637-cffba13af7c1",
      "metadata": {
        "id": "6ac433a1-9557-4cc3-8637-cffba13af7c1"
      },
      "source": [
        "- **RM** - average number of rooms per house\n",
        "- **LSTAT** - % lower status of the population\n",
        "- **PTRATIO** - pupil-teacher ratio by town\n",
        "- **MEDV** - Median value of owner-occupied homes"
      ]
    },
    {
      "cell_type": "markdown",
      "id": "cf6054f9-48f0-432e-bbb9-d1c2e37356d2",
      "metadata": {
        "id": "cf6054f9-48f0-432e-bbb9-d1c2e37356d2"
      },
      "source": [
        "# Our goal\n",
        "\n",
        "We wan to predict the house price given the socio-economic condition of the area.\n",
        "\n",
        "# Why\n",
        "\n",
        "## For Real Estate Agents and Companies\n",
        "\n",
        "1. **Pricing Strategy**: Agents can set competitive prices for homes, informed by predictive data rather than solely relying on intuition or outdated benchmarks.\n",
        "2. **Investment Scouting**: Identify underpriced neighborhoods or properties for investments.\n",
        "3. **Marketing Focus**: Prioritize marketing efforts in areas where house prices are predicted to rise.\n",
        "\n",
        "## For Homebuyers and Homeowners\n",
        "\n",
        "1. **Negotiation Power**: Knowing the predicted median value can give buyers a stronger negotiating position.\n",
        "2. **Long-term Investment**: Homebuyers can make more informed decisions about the future value of their investment.\n",
        "\n",
        "## For Financial Institutions\n",
        "\n",
        "1. **Risk Assessment**: Banks can better assess the risk associated with mortgage lending in different neighborhoods.\n",
        "2. **Asset Valuation**: For institutions holding real estate assets, a predictive model can help in the accurate valuation of their portfolio."
      ]
    },
    {
      "cell_type": "markdown",
      "id": "f7ec63c5-246d-457c-9c41-1dda8fc4d88c",
      "metadata": {
        "id": "f7ec63c5-246d-457c-9c41-1dda8fc4d88c"
      },
      "source": [
        "![Example Image](https://github.com/samsung-ai-course/6-7-edition/blob/main/Introduction%20-%20Basic-Machine-Learning-Models/media/7ynd4l.jpg?raw=1)"
      ]
    },
    {
      "cell_type": "code",
      "execution_count": 8,
      "id": "ba137d3b-2fd6-4b4a-a599-71fdddad7181",
      "metadata": {
        "id": "ba137d3b-2fd6-4b4a-a599-71fdddad7181"
      },
      "outputs": [],
      "source": [
        "# define features and target\n",
        "X = df[['RM','LSTAT','PTRATIO']]\n",
        "y = df['MEDV']"
      ]
    },
    {
      "cell_type": "code",
      "execution_count": 9,
      "id": "8bc7c01f-fa47-40d6-a0c2-c349c4ee51f0",
      "metadata": {
        "colab": {
          "base_uri": "https://localhost:8080/",
          "height": 80
        },
        "id": "8bc7c01f-fa47-40d6-a0c2-c349c4ee51f0",
        "outputId": "ab0582fc-86d2-4744-cc1d-de55dacee383"
      },
      "outputs": [
        {
          "output_type": "execute_result",
          "data": {
            "text/plain": [
              "LinearRegression()"
            ],
            "text/html": [
              "<style>#sk-container-id-1 {\n",
              "  /* Definition of color scheme common for light and dark mode */\n",
              "  --sklearn-color-text: black;\n",
              "  --sklearn-color-line: gray;\n",
              "  /* Definition of color scheme for unfitted estimators */\n",
              "  --sklearn-color-unfitted-level-0: #fff5e6;\n",
              "  --sklearn-color-unfitted-level-1: #f6e4d2;\n",
              "  --sklearn-color-unfitted-level-2: #ffe0b3;\n",
              "  --sklearn-color-unfitted-level-3: chocolate;\n",
              "  /* Definition of color scheme for fitted estimators */\n",
              "  --sklearn-color-fitted-level-0: #f0f8ff;\n",
              "  --sklearn-color-fitted-level-1: #d4ebff;\n",
              "  --sklearn-color-fitted-level-2: #b3dbfd;\n",
              "  --sklearn-color-fitted-level-3: cornflowerblue;\n",
              "\n",
              "  /* Specific color for light theme */\n",
              "  --sklearn-color-text-on-default-background: var(--sg-text-color, var(--theme-code-foreground, var(--jp-content-font-color1, black)));\n",
              "  --sklearn-color-background: var(--sg-background-color, var(--theme-background, var(--jp-layout-color0, white)));\n",
              "  --sklearn-color-border-box: var(--sg-text-color, var(--theme-code-foreground, var(--jp-content-font-color1, black)));\n",
              "  --sklearn-color-icon: #696969;\n",
              "\n",
              "  @media (prefers-color-scheme: dark) {\n",
              "    /* Redefinition of color scheme for dark theme */\n",
              "    --sklearn-color-text-on-default-background: var(--sg-text-color, var(--theme-code-foreground, var(--jp-content-font-color1, white)));\n",
              "    --sklearn-color-background: var(--sg-background-color, var(--theme-background, var(--jp-layout-color0, #111)));\n",
              "    --sklearn-color-border-box: var(--sg-text-color, var(--theme-code-foreground, var(--jp-content-font-color1, white)));\n",
              "    --sklearn-color-icon: #878787;\n",
              "  }\n",
              "}\n",
              "\n",
              "#sk-container-id-1 {\n",
              "  color: var(--sklearn-color-text);\n",
              "}\n",
              "\n",
              "#sk-container-id-1 pre {\n",
              "  padding: 0;\n",
              "}\n",
              "\n",
              "#sk-container-id-1 input.sk-hidden--visually {\n",
              "  border: 0;\n",
              "  clip: rect(1px 1px 1px 1px);\n",
              "  clip: rect(1px, 1px, 1px, 1px);\n",
              "  height: 1px;\n",
              "  margin: -1px;\n",
              "  overflow: hidden;\n",
              "  padding: 0;\n",
              "  position: absolute;\n",
              "  width: 1px;\n",
              "}\n",
              "\n",
              "#sk-container-id-1 div.sk-dashed-wrapped {\n",
              "  border: 1px dashed var(--sklearn-color-line);\n",
              "  margin: 0 0.4em 0.5em 0.4em;\n",
              "  box-sizing: border-box;\n",
              "  padding-bottom: 0.4em;\n",
              "  background-color: var(--sklearn-color-background);\n",
              "}\n",
              "\n",
              "#sk-container-id-1 div.sk-container {\n",
              "  /* jupyter's `normalize.less` sets `[hidden] { display: none; }`\n",
              "     but bootstrap.min.css set `[hidden] { display: none !important; }`\n",
              "     so we also need the `!important` here to be able to override the\n",
              "     default hidden behavior on the sphinx rendered scikit-learn.org.\n",
              "     See: https://github.com/scikit-learn/scikit-learn/issues/21755 */\n",
              "  display: inline-block !important;\n",
              "  position: relative;\n",
              "}\n",
              "\n",
              "#sk-container-id-1 div.sk-text-repr-fallback {\n",
              "  display: none;\n",
              "}\n",
              "\n",
              "div.sk-parallel-item,\n",
              "div.sk-serial,\n",
              "div.sk-item {\n",
              "  /* draw centered vertical line to link estimators */\n",
              "  background-image: linear-gradient(var(--sklearn-color-text-on-default-background), var(--sklearn-color-text-on-default-background));\n",
              "  background-size: 2px 100%;\n",
              "  background-repeat: no-repeat;\n",
              "  background-position: center center;\n",
              "}\n",
              "\n",
              "/* Parallel-specific style estimator block */\n",
              "\n",
              "#sk-container-id-1 div.sk-parallel-item::after {\n",
              "  content: \"\";\n",
              "  width: 100%;\n",
              "  border-bottom: 2px solid var(--sklearn-color-text-on-default-background);\n",
              "  flex-grow: 1;\n",
              "}\n",
              "\n",
              "#sk-container-id-1 div.sk-parallel {\n",
              "  display: flex;\n",
              "  align-items: stretch;\n",
              "  justify-content: center;\n",
              "  background-color: var(--sklearn-color-background);\n",
              "  position: relative;\n",
              "}\n",
              "\n",
              "#sk-container-id-1 div.sk-parallel-item {\n",
              "  display: flex;\n",
              "  flex-direction: column;\n",
              "}\n",
              "\n",
              "#sk-container-id-1 div.sk-parallel-item:first-child::after {\n",
              "  align-self: flex-end;\n",
              "  width: 50%;\n",
              "}\n",
              "\n",
              "#sk-container-id-1 div.sk-parallel-item:last-child::after {\n",
              "  align-self: flex-start;\n",
              "  width: 50%;\n",
              "}\n",
              "\n",
              "#sk-container-id-1 div.sk-parallel-item:only-child::after {\n",
              "  width: 0;\n",
              "}\n",
              "\n",
              "/* Serial-specific style estimator block */\n",
              "\n",
              "#sk-container-id-1 div.sk-serial {\n",
              "  display: flex;\n",
              "  flex-direction: column;\n",
              "  align-items: center;\n",
              "  background-color: var(--sklearn-color-background);\n",
              "  padding-right: 1em;\n",
              "  padding-left: 1em;\n",
              "}\n",
              "\n",
              "\n",
              "/* Toggleable style: style used for estimator/Pipeline/ColumnTransformer box that is\n",
              "clickable and can be expanded/collapsed.\n",
              "- Pipeline and ColumnTransformer use this feature and define the default style\n",
              "- Estimators will overwrite some part of the style using the `sk-estimator` class\n",
              "*/\n",
              "\n",
              "/* Pipeline and ColumnTransformer style (default) */\n",
              "\n",
              "#sk-container-id-1 div.sk-toggleable {\n",
              "  /* Default theme specific background. It is overwritten whether we have a\n",
              "  specific estimator or a Pipeline/ColumnTransformer */\n",
              "  background-color: var(--sklearn-color-background);\n",
              "}\n",
              "\n",
              "/* Toggleable label */\n",
              "#sk-container-id-1 label.sk-toggleable__label {\n",
              "  cursor: pointer;\n",
              "  display: block;\n",
              "  width: 100%;\n",
              "  margin-bottom: 0;\n",
              "  padding: 0.5em;\n",
              "  box-sizing: border-box;\n",
              "  text-align: center;\n",
              "}\n",
              "\n",
              "#sk-container-id-1 label.sk-toggleable__label-arrow:before {\n",
              "  /* Arrow on the left of the label */\n",
              "  content: \"▸\";\n",
              "  float: left;\n",
              "  margin-right: 0.25em;\n",
              "  color: var(--sklearn-color-icon);\n",
              "}\n",
              "\n",
              "#sk-container-id-1 label.sk-toggleable__label-arrow:hover:before {\n",
              "  color: var(--sklearn-color-text);\n",
              "}\n",
              "\n",
              "/* Toggleable content - dropdown */\n",
              "\n",
              "#sk-container-id-1 div.sk-toggleable__content {\n",
              "  max-height: 0;\n",
              "  max-width: 0;\n",
              "  overflow: hidden;\n",
              "  text-align: left;\n",
              "  /* unfitted */\n",
              "  background-color: var(--sklearn-color-unfitted-level-0);\n",
              "}\n",
              "\n",
              "#sk-container-id-1 div.sk-toggleable__content.fitted {\n",
              "  /* fitted */\n",
              "  background-color: var(--sklearn-color-fitted-level-0);\n",
              "}\n",
              "\n",
              "#sk-container-id-1 div.sk-toggleable__content pre {\n",
              "  margin: 0.2em;\n",
              "  border-radius: 0.25em;\n",
              "  color: var(--sklearn-color-text);\n",
              "  /* unfitted */\n",
              "  background-color: var(--sklearn-color-unfitted-level-0);\n",
              "}\n",
              "\n",
              "#sk-container-id-1 div.sk-toggleable__content.fitted pre {\n",
              "  /* unfitted */\n",
              "  background-color: var(--sklearn-color-fitted-level-0);\n",
              "}\n",
              "\n",
              "#sk-container-id-1 input.sk-toggleable__control:checked~div.sk-toggleable__content {\n",
              "  /* Expand drop-down */\n",
              "  max-height: 200px;\n",
              "  max-width: 100%;\n",
              "  overflow: auto;\n",
              "}\n",
              "\n",
              "#sk-container-id-1 input.sk-toggleable__control:checked~label.sk-toggleable__label-arrow:before {\n",
              "  content: \"▾\";\n",
              "}\n",
              "\n",
              "/* Pipeline/ColumnTransformer-specific style */\n",
              "\n",
              "#sk-container-id-1 div.sk-label input.sk-toggleable__control:checked~label.sk-toggleable__label {\n",
              "  color: var(--sklearn-color-text);\n",
              "  background-color: var(--sklearn-color-unfitted-level-2);\n",
              "}\n",
              "\n",
              "#sk-container-id-1 div.sk-label.fitted input.sk-toggleable__control:checked~label.sk-toggleable__label {\n",
              "  background-color: var(--sklearn-color-fitted-level-2);\n",
              "}\n",
              "\n",
              "/* Estimator-specific style */\n",
              "\n",
              "/* Colorize estimator box */\n",
              "#sk-container-id-1 div.sk-estimator input.sk-toggleable__control:checked~label.sk-toggleable__label {\n",
              "  /* unfitted */\n",
              "  background-color: var(--sklearn-color-unfitted-level-2);\n",
              "}\n",
              "\n",
              "#sk-container-id-1 div.sk-estimator.fitted input.sk-toggleable__control:checked~label.sk-toggleable__label {\n",
              "  /* fitted */\n",
              "  background-color: var(--sklearn-color-fitted-level-2);\n",
              "}\n",
              "\n",
              "#sk-container-id-1 div.sk-label label.sk-toggleable__label,\n",
              "#sk-container-id-1 div.sk-label label {\n",
              "  /* The background is the default theme color */\n",
              "  color: var(--sklearn-color-text-on-default-background);\n",
              "}\n",
              "\n",
              "/* On hover, darken the color of the background */\n",
              "#sk-container-id-1 div.sk-label:hover label.sk-toggleable__label {\n",
              "  color: var(--sklearn-color-text);\n",
              "  background-color: var(--sklearn-color-unfitted-level-2);\n",
              "}\n",
              "\n",
              "/* Label box, darken color on hover, fitted */\n",
              "#sk-container-id-1 div.sk-label.fitted:hover label.sk-toggleable__label.fitted {\n",
              "  color: var(--sklearn-color-text);\n",
              "  background-color: var(--sklearn-color-fitted-level-2);\n",
              "}\n",
              "\n",
              "/* Estimator label */\n",
              "\n",
              "#sk-container-id-1 div.sk-label label {\n",
              "  font-family: monospace;\n",
              "  font-weight: bold;\n",
              "  display: inline-block;\n",
              "  line-height: 1.2em;\n",
              "}\n",
              "\n",
              "#sk-container-id-1 div.sk-label-container {\n",
              "  text-align: center;\n",
              "}\n",
              "\n",
              "/* Estimator-specific */\n",
              "#sk-container-id-1 div.sk-estimator {\n",
              "  font-family: monospace;\n",
              "  border: 1px dotted var(--sklearn-color-border-box);\n",
              "  border-radius: 0.25em;\n",
              "  box-sizing: border-box;\n",
              "  margin-bottom: 0.5em;\n",
              "  /* unfitted */\n",
              "  background-color: var(--sklearn-color-unfitted-level-0);\n",
              "}\n",
              "\n",
              "#sk-container-id-1 div.sk-estimator.fitted {\n",
              "  /* fitted */\n",
              "  background-color: var(--sklearn-color-fitted-level-0);\n",
              "}\n",
              "\n",
              "/* on hover */\n",
              "#sk-container-id-1 div.sk-estimator:hover {\n",
              "  /* unfitted */\n",
              "  background-color: var(--sklearn-color-unfitted-level-2);\n",
              "}\n",
              "\n",
              "#sk-container-id-1 div.sk-estimator.fitted:hover {\n",
              "  /* fitted */\n",
              "  background-color: var(--sklearn-color-fitted-level-2);\n",
              "}\n",
              "\n",
              "/* Specification for estimator info (e.g. \"i\" and \"?\") */\n",
              "\n",
              "/* Common style for \"i\" and \"?\" */\n",
              "\n",
              ".sk-estimator-doc-link,\n",
              "a:link.sk-estimator-doc-link,\n",
              "a:visited.sk-estimator-doc-link {\n",
              "  float: right;\n",
              "  font-size: smaller;\n",
              "  line-height: 1em;\n",
              "  font-family: monospace;\n",
              "  background-color: var(--sklearn-color-background);\n",
              "  border-radius: 1em;\n",
              "  height: 1em;\n",
              "  width: 1em;\n",
              "  text-decoration: none !important;\n",
              "  margin-left: 1ex;\n",
              "  /* unfitted */\n",
              "  border: var(--sklearn-color-unfitted-level-1) 1pt solid;\n",
              "  color: var(--sklearn-color-unfitted-level-1);\n",
              "}\n",
              "\n",
              ".sk-estimator-doc-link.fitted,\n",
              "a:link.sk-estimator-doc-link.fitted,\n",
              "a:visited.sk-estimator-doc-link.fitted {\n",
              "  /* fitted */\n",
              "  border: var(--sklearn-color-fitted-level-1) 1pt solid;\n",
              "  color: var(--sklearn-color-fitted-level-1);\n",
              "}\n",
              "\n",
              "/* On hover */\n",
              "div.sk-estimator:hover .sk-estimator-doc-link:hover,\n",
              ".sk-estimator-doc-link:hover,\n",
              "div.sk-label-container:hover .sk-estimator-doc-link:hover,\n",
              ".sk-estimator-doc-link:hover {\n",
              "  /* unfitted */\n",
              "  background-color: var(--sklearn-color-unfitted-level-3);\n",
              "  color: var(--sklearn-color-background);\n",
              "  text-decoration: none;\n",
              "}\n",
              "\n",
              "div.sk-estimator.fitted:hover .sk-estimator-doc-link.fitted:hover,\n",
              ".sk-estimator-doc-link.fitted:hover,\n",
              "div.sk-label-container:hover .sk-estimator-doc-link.fitted:hover,\n",
              ".sk-estimator-doc-link.fitted:hover {\n",
              "  /* fitted */\n",
              "  background-color: var(--sklearn-color-fitted-level-3);\n",
              "  color: var(--sklearn-color-background);\n",
              "  text-decoration: none;\n",
              "}\n",
              "\n",
              "/* Span, style for the box shown on hovering the info icon */\n",
              ".sk-estimator-doc-link span {\n",
              "  display: none;\n",
              "  z-index: 9999;\n",
              "  position: relative;\n",
              "  font-weight: normal;\n",
              "  right: .2ex;\n",
              "  padding: .5ex;\n",
              "  margin: .5ex;\n",
              "  width: min-content;\n",
              "  min-width: 20ex;\n",
              "  max-width: 50ex;\n",
              "  color: var(--sklearn-color-text);\n",
              "  box-shadow: 2pt 2pt 4pt #999;\n",
              "  /* unfitted */\n",
              "  background: var(--sklearn-color-unfitted-level-0);\n",
              "  border: .5pt solid var(--sklearn-color-unfitted-level-3);\n",
              "}\n",
              "\n",
              ".sk-estimator-doc-link.fitted span {\n",
              "  /* fitted */\n",
              "  background: var(--sklearn-color-fitted-level-0);\n",
              "  border: var(--sklearn-color-fitted-level-3);\n",
              "}\n",
              "\n",
              ".sk-estimator-doc-link:hover span {\n",
              "  display: block;\n",
              "}\n",
              "\n",
              "/* \"?\"-specific style due to the `<a>` HTML tag */\n",
              "\n",
              "#sk-container-id-1 a.estimator_doc_link {\n",
              "  float: right;\n",
              "  font-size: 1rem;\n",
              "  line-height: 1em;\n",
              "  font-family: monospace;\n",
              "  background-color: var(--sklearn-color-background);\n",
              "  border-radius: 1rem;\n",
              "  height: 1rem;\n",
              "  width: 1rem;\n",
              "  text-decoration: none;\n",
              "  /* unfitted */\n",
              "  color: var(--sklearn-color-unfitted-level-1);\n",
              "  border: var(--sklearn-color-unfitted-level-1) 1pt solid;\n",
              "}\n",
              "\n",
              "#sk-container-id-1 a.estimator_doc_link.fitted {\n",
              "  /* fitted */\n",
              "  border: var(--sklearn-color-fitted-level-1) 1pt solid;\n",
              "  color: var(--sklearn-color-fitted-level-1);\n",
              "}\n",
              "\n",
              "/* On hover */\n",
              "#sk-container-id-1 a.estimator_doc_link:hover {\n",
              "  /* unfitted */\n",
              "  background-color: var(--sklearn-color-unfitted-level-3);\n",
              "  color: var(--sklearn-color-background);\n",
              "  text-decoration: none;\n",
              "}\n",
              "\n",
              "#sk-container-id-1 a.estimator_doc_link.fitted:hover {\n",
              "  /* fitted */\n",
              "  background-color: var(--sklearn-color-fitted-level-3);\n",
              "}\n",
              "</style><div id=\"sk-container-id-1\" class=\"sk-top-container\"><div class=\"sk-text-repr-fallback\"><pre>LinearRegression()</pre><b>In a Jupyter environment, please rerun this cell to show the HTML representation or trust the notebook. <br />On GitHub, the HTML representation is unable to render, please try loading this page with nbviewer.org.</b></div><div class=\"sk-container\" hidden><div class=\"sk-item\"><div class=\"sk-estimator fitted sk-toggleable\"><input class=\"sk-toggleable__control sk-hidden--visually\" id=\"sk-estimator-id-1\" type=\"checkbox\" checked><label for=\"sk-estimator-id-1\" class=\"sk-toggleable__label fitted sk-toggleable__label-arrow fitted\">&nbsp;&nbsp;LinearRegression<a class=\"sk-estimator-doc-link fitted\" rel=\"noreferrer\" target=\"_blank\" href=\"https://scikit-learn.org/1.5/modules/generated/sklearn.linear_model.LinearRegression.html\">?<span>Documentation for LinearRegression</span></a><span class=\"sk-estimator-doc-link fitted\">i<span>Fitted</span></span></label><div class=\"sk-toggleable__content fitted\"><pre>LinearRegression()</pre></div> </div></div></div></div>"
            ]
          },
          "metadata": {},
          "execution_count": 9
        }
      ],
      "source": [
        "# intialize the model\n",
        "model = LinearRegression()\n",
        "\n",
        "# train the model on this data\n",
        "model.fit(X,y)"
      ]
    },
    {
      "cell_type": "markdown",
      "id": "27d238f2-13cd-4c63-af61-1e889c3d37e8",
      "metadata": {
        "id": "27d238f2-13cd-4c63-af61-1e889c3d37e8"
      },
      "source": [
        "![Example Image](https://github.com/samsung-ai-course/6-7-edition/blob/main/Introduction%20-%20Basic-Machine-Learning-Models/media/7yndow.jpg?raw=1)"
      ]
    },
    {
      "cell_type": "markdown",
      "id": "ee72ba51-efc2-47e6-8263-07986a35d971",
      "metadata": {
        "id": "ee72ba51-efc2-47e6-8263-07986a35d971"
      },
      "source": [
        "Yup, the model just trained to use the features **RM**, **LSTAT** and **PTRATIO** to predict the **MEDV**.\n",
        "\n",
        "Let's look at the model predictions"
      ]
    },
    {
      "cell_type": "code",
      "execution_count": 10,
      "id": "ea790e01-960a-4d1c-971b-2559cacec878",
      "metadata": {
        "id": "ea790e01-960a-4d1c-971b-2559cacec878"
      },
      "outputs": [],
      "source": [
        "preds = model.predict(X)"
      ]
    },
    {
      "cell_type": "code",
      "execution_count": 11,
      "id": "58222357-1d9e-4996-87cc-481aa22edb01",
      "metadata": {
        "colab": {
          "base_uri": "https://localhost:8080/"
        },
        "id": "58222357-1d9e-4996-87cc-481aa22edb01",
        "outputId": "ae884525-5d74-4529-b600-b454885b713a"
      },
      "outputs": [
        {
          "output_type": "execute_result",
          "data": {
            "text/plain": [
              "array([632371.7, 525177.1, 646753.1])"
            ]
          },
          "metadata": {},
          "execution_count": 11
        }
      ],
      "source": [
        "preds[:3].round(1) # showing first 3 predictions"
      ]
    },
    {
      "cell_type": "code",
      "execution_count": 12,
      "id": "9a389faf",
      "metadata": {
        "colab": {
          "base_uri": "https://localhost:8080/"
        },
        "id": "9a389faf",
        "outputId": "84d27765-169f-4d17-b021-da825bbc29db"
      },
      "outputs": [
        {
          "output_type": "execute_result",
          "data": {
            "text/plain": [
              "(489,)"
            ]
          },
          "metadata": {},
          "execution_count": 12
        }
      ],
      "source": [
        "# how many predictions do we have?\n",
        "preds.shape"
      ]
    },
    {
      "cell_type": "markdown",
      "id": "823493e2-304c-49e6-8c09-2d76467bfe93",
      "metadata": {
        "id": "823493e2-304c-49e6-8c09-2d76467bfe93"
      },
      "source": [
        "Why did the model produce 489 predictions?"
      ]
    },
    {
      "cell_type": "markdown",
      "id": "61060f0c-26a6-4edc-a513-b23e210c6c47",
      "metadata": {
        "id": "61060f0c-26a6-4edc-a513-b23e210c6c47"
      },
      "source": [
        "-----"
      ]
    },
    {
      "cell_type": "markdown",
      "id": "fbb7ae07-c431-4251-b2fc-5047ce43a6d4",
      "metadata": {
        "id": "fbb7ae07-c431-4251-b2fc-5047ce43a6d4"
      },
      "source": [
        "Let's say we have a new neighborhood for which we want to have an estimate of the median house price."
      ]
    },
    {
      "cell_type": "code",
      "execution_count": 13,
      "id": "dbf920b4",
      "metadata": {
        "colab": {
          "base_uri": "https://localhost:8080/",
          "height": 89
        },
        "id": "dbf920b4",
        "outputId": "865ce7e9-4429-4d64-d08a-cc2d776edfb6"
      },
      "outputs": [
        {
          "output_type": "execute_result",
          "data": {
            "text/plain": [
              "                    RM  LSTAT  PTRATIO\n",
              "new neighborhood  6.42   8.04     16.1"
            ],
            "text/html": [
              "\n",
              "  <div id=\"df-d37440c4-58ba-4f07-b662-c04e413604f4\" class=\"colab-df-container\">\n",
              "    <div>\n",
              "<style scoped>\n",
              "    .dataframe tbody tr th:only-of-type {\n",
              "        vertical-align: middle;\n",
              "    }\n",
              "\n",
              "    .dataframe tbody tr th {\n",
              "        vertical-align: top;\n",
              "    }\n",
              "\n",
              "    .dataframe thead th {\n",
              "        text-align: right;\n",
              "    }\n",
              "</style>\n",
              "<table border=\"1\" class=\"dataframe\">\n",
              "  <thead>\n",
              "    <tr style=\"text-align: right;\">\n",
              "      <th></th>\n",
              "      <th>RM</th>\n",
              "      <th>LSTAT</th>\n",
              "      <th>PTRATIO</th>\n",
              "    </tr>\n",
              "  </thead>\n",
              "  <tbody>\n",
              "    <tr>\n",
              "      <th>new neighborhood</th>\n",
              "      <td>6.42</td>\n",
              "      <td>8.04</td>\n",
              "      <td>16.1</td>\n",
              "    </tr>\n",
              "  </tbody>\n",
              "</table>\n",
              "</div>\n",
              "    <div class=\"colab-df-buttons\">\n",
              "\n",
              "  <div class=\"colab-df-container\">\n",
              "    <button class=\"colab-df-convert\" onclick=\"convertToInteractive('df-d37440c4-58ba-4f07-b662-c04e413604f4')\"\n",
              "            title=\"Convert this dataframe to an interactive table.\"\n",
              "            style=\"display:none;\">\n",
              "\n",
              "  <svg xmlns=\"http://www.w3.org/2000/svg\" height=\"24px\" viewBox=\"0 -960 960 960\">\n",
              "    <path d=\"M120-120v-720h720v720H120Zm60-500h600v-160H180v160Zm220 220h160v-160H400v160Zm0 220h160v-160H400v160ZM180-400h160v-160H180v160Zm440 0h160v-160H620v160ZM180-180h160v-160H180v160Zm440 0h160v-160H620v160Z\"/>\n",
              "  </svg>\n",
              "    </button>\n",
              "\n",
              "  <style>\n",
              "    .colab-df-container {\n",
              "      display:flex;\n",
              "      gap: 12px;\n",
              "    }\n",
              "\n",
              "    .colab-df-convert {\n",
              "      background-color: #E8F0FE;\n",
              "      border: none;\n",
              "      border-radius: 50%;\n",
              "      cursor: pointer;\n",
              "      display: none;\n",
              "      fill: #1967D2;\n",
              "      height: 32px;\n",
              "      padding: 0 0 0 0;\n",
              "      width: 32px;\n",
              "    }\n",
              "\n",
              "    .colab-df-convert:hover {\n",
              "      background-color: #E2EBFA;\n",
              "      box-shadow: 0px 1px 2px rgba(60, 64, 67, 0.3), 0px 1px 3px 1px rgba(60, 64, 67, 0.15);\n",
              "      fill: #174EA6;\n",
              "    }\n",
              "\n",
              "    .colab-df-buttons div {\n",
              "      margin-bottom: 4px;\n",
              "    }\n",
              "\n",
              "    [theme=dark] .colab-df-convert {\n",
              "      background-color: #3B4455;\n",
              "      fill: #D2E3FC;\n",
              "    }\n",
              "\n",
              "    [theme=dark] .colab-df-convert:hover {\n",
              "      background-color: #434B5C;\n",
              "      box-shadow: 0px 1px 3px 1px rgba(0, 0, 0, 0.15);\n",
              "      filter: drop-shadow(0px 1px 2px rgba(0, 0, 0, 0.3));\n",
              "      fill: #FFFFFF;\n",
              "    }\n",
              "  </style>\n",
              "\n",
              "    <script>\n",
              "      const buttonEl =\n",
              "        document.querySelector('#df-d37440c4-58ba-4f07-b662-c04e413604f4 button.colab-df-convert');\n",
              "      buttonEl.style.display =\n",
              "        google.colab.kernel.accessAllowed ? 'block' : 'none';\n",
              "\n",
              "      async function convertToInteractive(key) {\n",
              "        const element = document.querySelector('#df-d37440c4-58ba-4f07-b662-c04e413604f4');\n",
              "        const dataTable =\n",
              "          await google.colab.kernel.invokeFunction('convertToInteractive',\n",
              "                                                    [key], {});\n",
              "        if (!dataTable) return;\n",
              "\n",
              "        const docLinkHtml = 'Like what you see? Visit the ' +\n",
              "          '<a target=\"_blank\" href=https://colab.research.google.com/notebooks/data_table.ipynb>data table notebook</a>'\n",
              "          + ' to learn more about interactive tables.';\n",
              "        element.innerHTML = '';\n",
              "        dataTable['output_type'] = 'display_data';\n",
              "        await google.colab.output.renderOutput(dataTable, element);\n",
              "        const docLink = document.createElement('div');\n",
              "        docLink.innerHTML = docLinkHtml;\n",
              "        element.appendChild(docLink);\n",
              "      }\n",
              "    </script>\n",
              "  </div>\n",
              "\n",
              "\n",
              "  <div id=\"id_3db2f31b-b14c-4ca5-8127-fbdc73a3114f\">\n",
              "    <style>\n",
              "      .colab-df-generate {\n",
              "        background-color: #E8F0FE;\n",
              "        border: none;\n",
              "        border-radius: 50%;\n",
              "        cursor: pointer;\n",
              "        display: none;\n",
              "        fill: #1967D2;\n",
              "        height: 32px;\n",
              "        padding: 0 0 0 0;\n",
              "        width: 32px;\n",
              "      }\n",
              "\n",
              "      .colab-df-generate:hover {\n",
              "        background-color: #E2EBFA;\n",
              "        box-shadow: 0px 1px 2px rgba(60, 64, 67, 0.3), 0px 1px 3px 1px rgba(60, 64, 67, 0.15);\n",
              "        fill: #174EA6;\n",
              "      }\n",
              "\n",
              "      [theme=dark] .colab-df-generate {\n",
              "        background-color: #3B4455;\n",
              "        fill: #D2E3FC;\n",
              "      }\n",
              "\n",
              "      [theme=dark] .colab-df-generate:hover {\n",
              "        background-color: #434B5C;\n",
              "        box-shadow: 0px 1px 3px 1px rgba(0, 0, 0, 0.15);\n",
              "        filter: drop-shadow(0px 1px 2px rgba(0, 0, 0, 0.3));\n",
              "        fill: #FFFFFF;\n",
              "      }\n",
              "    </style>\n",
              "    <button class=\"colab-df-generate\" onclick=\"generateWithVariable('new_neighborhood')\"\n",
              "            title=\"Generate code using this dataframe.\"\n",
              "            style=\"display:none;\">\n",
              "\n",
              "  <svg xmlns=\"http://www.w3.org/2000/svg\" height=\"24px\"viewBox=\"0 0 24 24\"\n",
              "       width=\"24px\">\n",
              "    <path d=\"M7,19H8.4L18.45,9,17,7.55,7,17.6ZM5,21V16.75L18.45,3.32a2,2,0,0,1,2.83,0l1.4,1.43a1.91,1.91,0,0,1,.58,1.4,1.91,1.91,0,0,1-.58,1.4L9.25,21ZM18.45,9,17,7.55Zm-12,3A5.31,5.31,0,0,0,4.9,8.1,5.31,5.31,0,0,0,1,6.5,5.31,5.31,0,0,0,4.9,4.9,5.31,5.31,0,0,0,6.5,1,5.31,5.31,0,0,0,8.1,4.9,5.31,5.31,0,0,0,12,6.5,5.46,5.46,0,0,0,6.5,12Z\"/>\n",
              "  </svg>\n",
              "    </button>\n",
              "    <script>\n",
              "      (() => {\n",
              "      const buttonEl =\n",
              "        document.querySelector('#id_3db2f31b-b14c-4ca5-8127-fbdc73a3114f button.colab-df-generate');\n",
              "      buttonEl.style.display =\n",
              "        google.colab.kernel.accessAllowed ? 'block' : 'none';\n",
              "\n",
              "      buttonEl.onclick = () => {\n",
              "        google.colab.notebook.generateWithVariable('new_neighborhood');\n",
              "      }\n",
              "      })();\n",
              "    </script>\n",
              "  </div>\n",
              "\n",
              "    </div>\n",
              "  </div>\n"
            ],
            "application/vnd.google.colaboratory.intrinsic+json": {
              "type": "dataframe",
              "variable_name": "new_neighborhood",
              "summary": "{\n  \"name\": \"new_neighborhood\",\n  \"rows\": 1,\n  \"fields\": [\n    {\n      \"column\": \"RM\",\n      \"properties\": {\n        \"dtype\": \"number\",\n        \"std\": null,\n        \"min\": 6.42,\n        \"max\": 6.42,\n        \"num_unique_values\": 1,\n        \"samples\": [\n          6.42\n        ],\n        \"semantic_type\": \"\",\n        \"description\": \"\"\n      }\n    },\n    {\n      \"column\": \"LSTAT\",\n      \"properties\": {\n        \"dtype\": \"number\",\n        \"std\": null,\n        \"min\": 8.04,\n        \"max\": 8.04,\n        \"num_unique_values\": 1,\n        \"samples\": [\n          8.04\n        ],\n        \"semantic_type\": \"\",\n        \"description\": \"\"\n      }\n    },\n    {\n      \"column\": \"PTRATIO\",\n      \"properties\": {\n        \"dtype\": \"number\",\n        \"std\": null,\n        \"min\": 16.1,\n        \"max\": 16.1,\n        \"num_unique_values\": 1,\n        \"samples\": [\n          16.1\n        ],\n        \"semantic_type\": \"\",\n        \"description\": \"\"\n      }\n    }\n  ]\n}"
            }
          },
          "metadata": {},
          "execution_count": 13
        }
      ],
      "source": [
        "new_neighborhood = pd.DataFrame(data=[[6.42, 8.04, 16.1]],\n",
        "                                columns=['RM','LSTAT','PTRATIO'], index=['new neighborhood'])\n",
        "new_neighborhood"
      ]
    },
    {
      "cell_type": "markdown",
      "id": "d40e3fd9-d41a-4d0a-827a-9f302c2d5abc",
      "metadata": {
        "id": "d40e3fd9-d41a-4d0a-827a-9f302c2d5abc"
      },
      "source": [
        "How much would housing cost here?"
      ]
    },
    {
      "cell_type": "code",
      "execution_count": 14,
      "id": "1de284b7-c4d9-4ffd-9d40-66fd2357e246",
      "metadata": {
        "id": "1de284b7-c4d9-4ffd-9d40-66fd2357e246"
      },
      "outputs": [],
      "source": [
        "prediction = model.predict(new_neighborhood)"
      ]
    },
    {
      "cell_type": "code",
      "execution_count": 15,
      "id": "f91e91e9-b0ca-48d7-a67a-82cfa20e7a2e",
      "metadata": {
        "colab": {
          "base_uri": "https://localhost:8080/"
        },
        "id": "f91e91e9-b0ca-48d7-a67a-82cfa20e7a2e",
        "outputId": "68296bec-c033-4714-a557-b6a2ee4569d9"
      },
      "outputs": [
        {
          "output_type": "execute_result",
          "data": {
            "text/plain": [
              "array([570161.45407884])"
            ]
          },
          "metadata": {},
          "execution_count": 15
        }
      ],
      "source": [
        "prediction"
      ]
    },
    {
      "cell_type": "markdown",
      "id": "aa654d62-16bb-4c6a-9fe0-2c764ead62cf",
      "metadata": {
        "id": "aa654d62-16bb-4c6a-9fe0-2c764ead62cf"
      },
      "source": [
        "The model predicts a median house will cost 570k$ in this neighborhood!"
      ]
    },
    {
      "cell_type": "markdown",
      "id": "35379ff7-af5f-438d-9002-0612fdb94ba0",
      "metadata": {
        "id": "35379ff7-af5f-438d-9002-0612fdb94ba0"
      },
      "source": [
        "----"
      ]
    },
    {
      "cell_type": "markdown",
      "id": "b943306e-520c-4e06-a8c3-d5878c329953",
      "metadata": {
        "id": "b943306e-520c-4e06-a8c3-d5878c329953"
      },
      "source": [
        "You can now head over to Exercise 1 - Linear Regression"
      ]
    },
    {
      "cell_type": "markdown",
      "id": "77fef54f-cdaf-4597-8897-6d49f36610a9",
      "metadata": {
        "id": "77fef54f-cdaf-4597-8897-6d49f36610a9"
      },
      "source": [
        "![Example Image](https://github.com/samsung-ai-course/6-7-edition/blob/main/Introduction%20-%20Basic-Machine-Learning-Models/media/force.jpg?raw=1)"
      ]
    },
    {
      "cell_type": "markdown",
      "id": "8e0e777c-7761-4879-80ca-389ac7f7fa35",
      "metadata": {
        "id": "8e0e777c-7761-4879-80ca-389ac7f7fa35"
      },
      "source": [
        "# Can we trust out model's predictions?"
      ]
    },
    {
      "cell_type": "markdown",
      "id": "2b90713f-e482-451a-9570-97fc94fd08b3",
      "metadata": {
        "id": "2b90713f-e482-451a-9570-97fc94fd08b3"
      },
      "source": [
        "Let's take a look at the first 5 rows of the dataset as well as their respective predictions"
      ]
    },
    {
      "cell_type": "code",
      "execution_count": 16,
      "id": "e8589d34-55a2-4a37-9d4f-e5029b666256",
      "metadata": {
        "colab": {
          "base_uri": "https://localhost:8080/"
        },
        "id": "e8589d34-55a2-4a37-9d4f-e5029b666256",
        "outputId": "039ddcd4-8dfa-409d-e169-1f51e2b23f0e"
      },
      "outputs": [
        {
          "output_type": "execute_result",
          "data": {
            "text/plain": [
              "array([504000., 453600., 728700., 701400., 760200.])"
            ]
          },
          "metadata": {},
          "execution_count": 16
        }
      ],
      "source": [
        "y.to_numpy()[:5]"
      ]
    },
    {
      "cell_type": "code",
      "execution_count": 17,
      "id": "b2df7de5-5629-4cd4-8ba6-cde678b55f64",
      "metadata": {
        "colab": {
          "base_uri": "https://localhost:8080/"
        },
        "id": "b2df7de5-5629-4cd4-8ba6-cde678b55f64",
        "outputId": "960397db-9849-4574-8974-d6d631fa6e9b"
      },
      "outputs": [
        {
          "output_type": "execute_result",
          "data": {
            "text/plain": [
              "array([632372., 525177., 646753., 624848., 611817.])"
            ]
          },
          "metadata": {},
          "execution_count": 17
        }
      ],
      "source": [
        "preds[:5].round(0)"
      ]
    },
    {
      "cell_type": "markdown",
      "id": "a9047034-8444-4130-b979-cca7730abe17",
      "metadata": {
        "id": "a9047034-8444-4130-b979-cca7730abe17"
      },
      "source": [
        "It is noticeable that our model is off, but how far off?\n",
        "\n",
        "Let's look at the errors of the model by comparing its predictions to the actual prices"
      ]
    },
    {
      "cell_type": "code",
      "execution_count": 18,
      "id": "2d64a93f-1fe2-42d1-8cd2-df675173d267",
      "metadata": {
        "colab": {
          "base_uri": "https://localhost:8080/",
          "height": 458
        },
        "id": "2d64a93f-1fe2-42d1-8cd2-df675173d267",
        "outputId": "eac368a2-032e-42e7-f261-e4f2d4563abc"
      },
      "outputs": [
        {
          "output_type": "execute_result",
          "data": {
            "text/plain": [
              "0     -128371.739762\n",
              "1      -71577.148313\n",
              "2       81946.881920\n",
              "3       76551.704130\n",
              "4      148383.407464\n",
              "           ...      \n",
              "484     -1541.448492\n",
              "485     -4797.202628\n",
              "486    -46918.775678\n",
              "487    -61950.456779\n",
              "488   -192725.539836\n",
              "Name: MEDV, Length: 489, dtype: float64"
            ],
            "text/html": [
              "<div>\n",
              "<style scoped>\n",
              "    .dataframe tbody tr th:only-of-type {\n",
              "        vertical-align: middle;\n",
              "    }\n",
              "\n",
              "    .dataframe tbody tr th {\n",
              "        vertical-align: top;\n",
              "    }\n",
              "\n",
              "    .dataframe thead th {\n",
              "        text-align: right;\n",
              "    }\n",
              "</style>\n",
              "<table border=\"1\" class=\"dataframe\">\n",
              "  <thead>\n",
              "    <tr style=\"text-align: right;\">\n",
              "      <th></th>\n",
              "      <th>MEDV</th>\n",
              "    </tr>\n",
              "  </thead>\n",
              "  <tbody>\n",
              "    <tr>\n",
              "      <th>0</th>\n",
              "      <td>-128371.739762</td>\n",
              "    </tr>\n",
              "    <tr>\n",
              "      <th>1</th>\n",
              "      <td>-71577.148313</td>\n",
              "    </tr>\n",
              "    <tr>\n",
              "      <th>2</th>\n",
              "      <td>81946.881920</td>\n",
              "    </tr>\n",
              "    <tr>\n",
              "      <th>3</th>\n",
              "      <td>76551.704130</td>\n",
              "    </tr>\n",
              "    <tr>\n",
              "      <th>4</th>\n",
              "      <td>148383.407464</td>\n",
              "    </tr>\n",
              "    <tr>\n",
              "      <th>...</th>\n",
              "      <td>...</td>\n",
              "    </tr>\n",
              "    <tr>\n",
              "      <th>484</th>\n",
              "      <td>-1541.448492</td>\n",
              "    </tr>\n",
              "    <tr>\n",
              "      <th>485</th>\n",
              "      <td>-4797.202628</td>\n",
              "    </tr>\n",
              "    <tr>\n",
              "      <th>486</th>\n",
              "      <td>-46918.775678</td>\n",
              "    </tr>\n",
              "    <tr>\n",
              "      <th>487</th>\n",
              "      <td>-61950.456779</td>\n",
              "    </tr>\n",
              "    <tr>\n",
              "      <th>488</th>\n",
              "      <td>-192725.539836</td>\n",
              "    </tr>\n",
              "  </tbody>\n",
              "</table>\n",
              "<p>489 rows × 1 columns</p>\n",
              "</div><br><label><b>dtype:</b> float64</label>"
            ]
          },
          "metadata": {},
          "execution_count": 18
        }
      ],
      "source": [
        "y - preds"
      ]
    },
    {
      "cell_type": "markdown",
      "id": "422db977-219c-4c6d-86ef-19f7bfbbb643",
      "metadata": {
        "id": "422db977-219c-4c6d-86ef-19f7bfbbb643"
      },
      "source": [
        "Pretty cool! Sometimes the model mistakes the price by 100k€, other times it is only slightly off"
      ]
    },
    {
      "cell_type": "markdown",
      "id": "7b4ae5ed-625e-40f4-bb55-00f70eae17f9",
      "metadata": {
        "id": "7b4ae5ed-625e-40f4-bb55-00f70eae17f9"
      },
      "source": [
        "What error can we expect from this model, on average?"
      ]
    },
    {
      "cell_type": "code",
      "execution_count": 20,
      "id": "0478c40d-15f2-426c-a745-329f03fe7809",
      "metadata": {
        "colab": {
          "base_uri": "https://localhost:8080/"
        },
        "id": "0478c40d-15f2-426c-a745-329f03fe7809",
        "outputId": "40611e56-8e1e-4826-9ea2-4468d0329966"
      },
      "outputs": [
        {
          "output_type": "execute_result",
          "data": {
            "text/plain": [
              "7.046817026742884e-11"
            ]
          },
          "metadata": {},
          "execution_count": 20
        }
      ],
      "source": [
        "np.mean(y - preds)"
      ]
    },
    {
      "cell_type": "markdown",
      "id": "144c05a2-306f-48a8-842d-197998a29ab5",
      "metadata": {
        "id": "144c05a2-306f-48a8-842d-197998a29ab5"
      },
      "source": [
        "Zero doesnt' sound right. Can anyone guess why this is happening?"
      ]
    },
    {
      "cell_type": "markdown",
      "id": "499da99b-cfca-45ef-aa9c-b1d3484b741f",
      "metadata": {
        "id": "499da99b-cfca-45ef-aa9c-b1d3484b741f"
      },
      "source": [
        "----"
      ]
    },
    {
      "cell_type": "markdown",
      "id": "46ba715c-0355-413f-a185-0c1427bb00fe",
      "metadata": {
        "id": "46ba715c-0355-413f-a185-0c1427bb00fe"
      },
      "source": [
        "Besides the mean, how are my errors distributed?"
      ]
    },
    {
      "cell_type": "code",
      "execution_count": 21,
      "id": "68685085-538d-453b-8792-3d99f2421397",
      "metadata": {
        "colab": {
          "base_uri": "https://localhost:8080/",
          "height": 335
        },
        "id": "68685085-538d-453b-8792-3d99f2421397",
        "outputId": "314adc7a-6ae6-4013-996c-c621312fa339"
      },
      "outputs": [
        {
          "output_type": "execute_result",
          "data": {
            "text/plain": [
              "count       489.000000\n",
              "mean      65458.439640\n",
              "std       58529.854176\n",
              "min          54.954736\n",
              "25%       23275.299088\n",
              "50%       50337.575514\n",
              "75%       92006.405259\n",
              "max      326444.255481\n",
              "Name: MEDV, dtype: float64"
            ],
            "text/html": [
              "<div>\n",
              "<style scoped>\n",
              "    .dataframe tbody tr th:only-of-type {\n",
              "        vertical-align: middle;\n",
              "    }\n",
              "\n",
              "    .dataframe tbody tr th {\n",
              "        vertical-align: top;\n",
              "    }\n",
              "\n",
              "    .dataframe thead th {\n",
              "        text-align: right;\n",
              "    }\n",
              "</style>\n",
              "<table border=\"1\" class=\"dataframe\">\n",
              "  <thead>\n",
              "    <tr style=\"text-align: right;\">\n",
              "      <th></th>\n",
              "      <th>MEDV</th>\n",
              "    </tr>\n",
              "  </thead>\n",
              "  <tbody>\n",
              "    <tr>\n",
              "      <th>count</th>\n",
              "      <td>489.000000</td>\n",
              "    </tr>\n",
              "    <tr>\n",
              "      <th>mean</th>\n",
              "      <td>65458.439640</td>\n",
              "    </tr>\n",
              "    <tr>\n",
              "      <th>std</th>\n",
              "      <td>58529.854176</td>\n",
              "    </tr>\n",
              "    <tr>\n",
              "      <th>min</th>\n",
              "      <td>54.954736</td>\n",
              "    </tr>\n",
              "    <tr>\n",
              "      <th>25%</th>\n",
              "      <td>23275.299088</td>\n",
              "    </tr>\n",
              "    <tr>\n",
              "      <th>50%</th>\n",
              "      <td>50337.575514</td>\n",
              "    </tr>\n",
              "    <tr>\n",
              "      <th>75%</th>\n",
              "      <td>92006.405259</td>\n",
              "    </tr>\n",
              "    <tr>\n",
              "      <th>max</th>\n",
              "      <td>326444.255481</td>\n",
              "    </tr>\n",
              "  </tbody>\n",
              "</table>\n",
              "</div><br><label><b>dtype:</b> float64</label>"
            ]
          },
          "metadata": {},
          "execution_count": 21
        }
      ],
      "source": [
        "errors = np.abs(y - preds)\n",
        "errors.describe()"
      ]
    },
    {
      "cell_type": "markdown",
      "id": "fd8e2ac0-df46-44f7-bd10-4c62385f78a0",
      "metadata": {
        "id": "fd8e2ac0-df46-44f7-bd10-4c62385f78a0"
      },
      "source": [
        "We can also visualize a distribution using box plots!"
      ]
    },
    {
      "cell_type": "code",
      "execution_count": 22,
      "id": "7b94448a-e361-41c6-83de-6a520ff127cd",
      "metadata": {
        "colab": {
          "base_uri": "https://localhost:8080/",
          "height": 469
        },
        "id": "7b94448a-e361-41c6-83de-6a520ff127cd",
        "outputId": "72b7b374-ecf7-4ff7-f910-cf5ccea1e699"
      },
      "outputs": [
        {
          "output_type": "execute_result",
          "data": {
            "text/plain": [
              "<Axes: title={'center': 'distribution of the (absolute) errors'}>"
            ]
          },
          "metadata": {},
          "execution_count": 22
        },
        {
          "output_type": "display_data",
          "data": {
            "text/plain": [
              "<Figure size 640x480 with 1 Axes>"
            ],
            "image/png": "[encoded data removed]"
          },
          "metadata": {}
        }
      ],
      "source": [
        "errors.plot.box(title='distribution of the (absolute) errors')"
      ]
    },
    {
      "cell_type": "markdown",
      "id": "f07b16d8-d365-4674-88af-84e1273b2070",
      "metadata": {
        "id": "f07b16d8-d365-4674-88af-84e1273b2070"
      },
      "source": [
        "# Can we interpret a Linear Regression Model?\n",
        "\n",
        "$$ y = \\beta_0 x_0 + \\beta_1 x_1 + \\beta_2 x_2 + b$$"
      ]
    },
    {
      "cell_type": "code",
      "execution_count": 23,
      "id": "636eed12-5587-4397-9ef3-1cde26492886",
      "metadata": {
        "colab": {
          "base_uri": "https://localhost:8080/"
        },
        "id": "636eed12-5587-4397-9ef3-1cde26492886",
        "outputId": "5bea0978-e315-4c9e-cc64-f34bd992d295"
      },
      "outputs": [
        {
          "output_type": "execute_result",
          "data": {
            "text/plain": [
              "415464.39651672984"
            ]
          },
          "metadata": {},
          "execution_count": 23
        }
      ],
      "source": [
        "model.coef_\n",
        "model.intercept_"
      ]
    },
    {
      "cell_type": "markdown",
      "id": "87c1a72c-443c-40f0-98ec-53bcf81b04e2",
      "metadata": {
        "id": "87c1a72c-443c-40f0-98ec-53bcf81b04e2"
      },
      "source": [
        "Each coefficient corresponds to the trained $\\beta$ parameters in the same order you passed to the model, so:\n",
        "\n",
        "- $\\beta_0$ corresponds to the 'RM'\n",
        "- $\\beta_1$ corresponds to the 'LSTAT'\n",
        "- $\\beta_2$ corresponds to the 'PTRATIO'\n",
        "\n",
        "and finally, $b$ is the intercept parameter that adds a lot of flexibility to the model."
      ]
    },
    {
      "cell_type": "code",
      "execution_count": 24,
      "id": "546f9ebf-46f0-4607-a46b-20a88e60c8b4",
      "metadata": {
        "colab": {
          "base_uri": "https://localhost:8080/"
        },
        "id": "546f9ebf-46f0-4607-a46b-20a88e60c8b4",
        "outputId": "cdf0f1e0-c192-454a-d1b9-ee56354aecfb"
      },
      "outputs": [
        {
          "output_type": "execute_result",
          "data": {
            "text/plain": [
              "Index(['RM', 'LSTAT', 'PTRATIO'], dtype='object')"
            ]
          },
          "metadata": {},
          "execution_count": 24
        }
      ],
      "source": [
        "# We can confirm the Betas by listing the columns of X\n",
        "X.columns"
      ]
    },
    {
      "cell_type": "markdown",
      "id": "bfddadee-2b2a-4ba5-a613-866182e76f03",
      "metadata": {
        "id": "bfddadee-2b2a-4ba5-a613-866182e76f03"
      },
      "source": [
        "In a Linear Regression, $y$ is linear on the parameters $\\beta$. This means that each $\\beta_i$ represents the change in $y$ for a unit change in $x_i$.\n",
        "\n",
        "And while the model isn't perfect by any means, we can make sense of how it is making its decisions:\n",
        "1. $\\beta_0$ is very high, which means that as we consider houses with more rooms, we expect the price to go up (**makes sense!**)\n",
        "2. $\\beta_1$ is negative, which means that a neighborhood where the % of low socio-economic status  population increases, then the house prices decrease (**makes sense!**)\n",
        "3. $\\beta_2$ is negative, which means that if for example, the pupil-teacher ration goes from 10 to 100, it means the quality of education won't be as good, making the price go down (**makes sense!**)"
      ]
    }
  ],
  "metadata": {
    "kernelspec": {
      "display_name": "MLCatolica24",
      "language": "python",
      "name": "python3"
    },
    "language_info": {
      "codemirror_mode": {
        "name": "ipython",
        "version": 3
      },
      "file_extension": ".py",
      "mimetype": "text/x-python",
      "name": "python",
      "nbconvert_exporter": "python",
      "pygments_lexer": "ipython3",
      "version": "3.12.3"
    },
    "colab": {
      "provenance": []
    }
  },
  "nbformat": 4,
  "nbformat_minor": 5
}