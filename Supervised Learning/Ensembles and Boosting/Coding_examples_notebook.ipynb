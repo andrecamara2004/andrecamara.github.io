{
  "cells": [
    {
      "cell_type": "markdown",
      "metadata": {
        "id": "eM5JR6LwORHH"
      },
      "source": [
        "## Coding blocks"
      ]
    },
    {
      "cell_type": "markdown",
      "metadata": {
        "id": "AqgYwuk7ORHK"
      },
      "source": [
        "### 1. Compare the Tree-like algorithms:"
      ]
    },
    {
      "cell_type": "code",
      "execution_count": 1,
      "metadata": {
        "colab": {
          "base_uri": "https://localhost:8080/"
        },
        "id": "clB7kCFWORHK",
        "outputId": "50c470b1-b513-4b58-8088-67032834311c"
      },
      "outputs": [
        {
          "output_type": "stream",
          "name": "stderr",
          "text": [
            "<ipython-input-1-3b50a5eb9386>:11: DeprecationWarning: Please import `rotate` from the `scipy.ndimage` namespace; the `scipy.ndimage.interpolation` namespace is deprecated and will be removed in SciPy 2.0.0.\n",
            "  from scipy.ndimage.interpolation import rotate\n"
          ]
        }
      ],
      "source": [
        "import numpy as np\n",
        "import pandas as pd\n",
        "import matplotlib.pyplot as plt\n",
        "import warnings\n",
        "from sklearn.model_selection import train_test_split,GridSearchCV\n",
        "from sklearn.tree import DecisionTreeClassifier\n",
        "from sklearn.ensemble import RandomForestClassifier\n",
        "from sklearn.ensemble import AdaBoostClassifier\n",
        "from sklearn import metrics\n",
        "from sklearn.datasets import load_digits\n",
        "from scipy.ndimage.interpolation import rotate\n",
        "warnings.filterwarnings(action='ignore')                  # Turn off the warnings.\n",
        "%matplotlib inline"
      ]
    },
    {
      "cell_type": "markdown",
      "metadata": {
        "id": "9kqd2O4KORHM"
      },
      "source": [
        "#### 1.1. Read in data and explore:"
      ]
    },
    {
      "cell_type": "code",
      "execution_count": 2,
      "metadata": {
        "id": "nI7y0R27ORHN"
      },
      "outputs": [],
      "source": [
        "data = load_digits()"
      ]
    },
    {
      "cell_type": "code",
      "execution_count": 3,
      "metadata": {
        "colab": {
          "base_uri": "https://localhost:8080/"
        },
        "id": "Rw2sHoETORHN",
        "outputId": "0df80ddd-d4ec-4f8b-8f4c-26a782d06667"
      },
      "outputs": [
        {
          "output_type": "stream",
          "name": "stdout",
          "text": [
            ".. _digits_dataset:\n",
            "\n",
            "Optical recognition of handwritten digits dataset\n",
            "--------------------------------------------------\n",
            "\n",
            "**Data Set Characteristics:**\n",
            "\n",
            ":Number of Instances: 1797\n",
            ":Number of Attributes: 64\n",
            ":Attribute Information: 8x8 image of integer pixels in the range 0..16.\n",
            ":Missing Attribute Values: None\n",
            ":Creator: E. Alpaydin (alpaydin '@' boun.edu.tr)\n",
            ":Date: July; 1998\n",
            "\n",
            "This is a copy of the test set of the UCI ML hand-written digits datasets\n",
            "https://archive.ics.uci.edu/ml/datasets/Optical+Recognition+of+Handwritten+Digits\n",
            "\n",
            "The data set contains images of hand-written digits: 10 classes where\n",
            "each class refers to a digit.\n",
            "\n",
            "Preprocessing programs made available by NIST were used to extract\n",
            "normalized bitmaps of handwritten digits from a preprinted form. From a\n",
            "total of 43 people, 30 contributed to the training set and different 13\n",
            "to the test set. 32x32 bitmaps are divided into nonoverlapping blocks of\n",
            "4x4 and the number of on pixels are counted in each block. This generates\n",
            "an input matrix of 8x8 where each element is an integer in the range\n",
            "0..16. This reduces dimensionality and gives invariance to small\n",
            "distortions.\n",
            "\n",
            "For info on NIST preprocessing routines, see M. D. Garris, J. L. Blue, G.\n",
            "T. Candela, D. L. Dimmick, J. Geist, P. J. Grother, S. A. Janet, and C.\n",
            "L. Wilson, NIST Form-Based Handprint Recognition System, NISTIR 5469,\n",
            "1994.\n",
            "\n",
            ".. dropdown:: References\n",
            "\n",
            "  - C. Kaynak (1995) Methods of Combining Multiple Classifiers and Their\n",
            "    Applications to Handwritten Digit Recognition, MSc Thesis, Institute of\n",
            "    Graduate Studies in Science and Engineering, Bogazici University.\n",
            "  - E. Alpaydin, C. Kaynak (1998) Cascading Classifiers, Kybernetika.\n",
            "  - Ken Tang and Ponnuthurai N. Suganthan and Xi Yao and A. Kai Qin.\n",
            "    Linear dimensionalityreduction using relevance weighted LDA. School of\n",
            "    Electrical and Electronic Engineering Nanyang Technological University.\n",
            "    2005.\n",
            "  - Claudio Gentile. A New Approximate Maximal Margin Classification\n",
            "    Algorithm. NIPS. 2000.\n",
            "\n"
          ]
        }
      ],
      "source": [
        "# Display the description on the data.\n",
        "print(data['DESCR'])"
      ]
    },
    {
      "cell_type": "code",
      "execution_count": 4,
      "metadata": {
        "colab": {
          "base_uri": "https://localhost:8080/"
        },
        "id": "gpruaj1iORHO",
        "outputId": "9374eb54-67c6-495b-ad54-5ada28999caf"
      },
      "outputs": [
        {
          "output_type": "execute_result",
          "data": {
            "text/plain": [
              "(1797, 64)"
            ]
          },
          "metadata": {},
          "execution_count": 4
        }
      ],
      "source": [
        "# The explanatory variables.\n",
        "X = data['data']\n",
        "X.shape"
      ]
    },
    {
      "cell_type": "code",
      "execution_count": 5,
      "metadata": {
        "colab": {
          "base_uri": "https://localhost:8080/"
        },
        "id": "wm9F69PRORHO",
        "outputId": "af1d7c39-7475-4a26-8445-09bde09c356e"
      },
      "outputs": [
        {
          "output_type": "execute_result",
          "data": {
            "text/plain": [
              "(1797,)"
            ]
          },
          "metadata": {},
          "execution_count": 5
        }
      ],
      "source": [
        "# The response variable.\n",
        "Y = data['target']\n",
        "Y.shape"
      ]
    },
    {
      "cell_type": "code",
      "execution_count": 6,
      "metadata": {
        "id": "76T37l4NORHP"
      },
      "outputs": [],
      "source": [
        "# Define a visualization function.\n",
        "def show_data(X, Y, n, angle=0):\n",
        "    print(Y[n])\n",
        "    image_matrix = X[n,:].reshape((8,8))                                        # Reshape from 1D to 2D matrix.\n",
        "    image_matrix = rotate(image_matrix, angle, cval=0.01, reshape=False)        # Rotate if wanted.\n",
        "    plt.imshow(image_matrix, cmap='Greys',interpolation='None')\n",
        "    plt.show()\n"
      ]
    },
    {
      "cell_type": "code",
      "execution_count": 7,
      "metadata": {
        "colab": {
          "base_uri": "https://localhost:8080/",
          "height": 1000
        },
        "id": "booBfn3bORHP",
        "outputId": "de961f52-addb-4481-b777-2e7604a92fc3"
      },
      "outputs": [
        {
          "output_type": "stream",
          "name": "stdout",
          "text": [
            "5\n"
          ]
        },
        {
          "output_type": "display_data",
          "data": {
            "text/plain": [
              "<Figure size 640x480 with 1 Axes>"
            ],
            "image/png": "[encoded data removed]"
          },
          "metadata": {}
        },
        {
          "output_type": "stream",
          "name": "stdout",
          "text": [
            "9\n"
          ]
        },
        {
          "output_type": "display_data",
          "data": {
            "text/plain": [
              "<Figure size 640x480 with 1 Axes>"
            ],
            "image/png": "[encoded data removed]"
          },
          "metadata": {}
        },
        {
          "output_type": "stream",
          "name": "stdout",
          "text": [
            "1\n"
          ]
        },
        {
          "output_type": "display_data",
          "data": {
            "text/plain": [
              "<Figure size 640x480 with 1 Axes>"
            ],
            "image/png": "[encoded data removed]"
          },
          "metadata": {}
        }
      ],
      "source": [
        "for i in [15,29,99]:\n",
        "    show_data(X,Y,i)"
      ]
    },
    {
      "cell_type": "markdown",
      "metadata": {
        "id": "mN8RiaP6ORHP"
      },
      "source": [
        "#### 1.2. Data pre-processing:"
      ]
    },
    {
      "cell_type": "code",
      "execution_count": 8,
      "metadata": {
        "id": "flyAlAlhORHP"
      },
      "outputs": [],
      "source": [
        "# Min-Max scaling to the whole dataset.\n",
        "X_min = X.min()\n",
        "X_max = X.max()\n",
        "X_range = X_max - X_min\n",
        "X = (X - X_min)/X_range"
      ]
    },
    {
      "cell_type": "code",
      "execution_count": 9,
      "metadata": {
        "id": "L5eIYxaeORHQ"
      },
      "outputs": [],
      "source": [
        "X_train, X_test, Y_train, Y_test = train_test_split(X, Y, test_size=0.3, random_state=1234)"
      ]
    },
    {
      "cell_type": "markdown",
      "metadata": {
        "id": "39a2VZtOORHQ"
      },
      "source": [
        "#### 1.3. Classification with Tree (optimized hyperparameters):"
      ]
    },
    {
      "cell_type": "markdown",
      "metadata": {
        "id": "yHBT-ICsORHQ"
      },
      "source": [
        "NOTE: We optimize only some of the hyperparameters due to time considerataion. Students are encouraged to explore."
      ]
    },
    {
      "cell_type": "code",
      "execution_count": 10,
      "metadata": {
        "id": "UIRqlYGQORHQ"
      },
      "outputs": [],
      "source": [
        "depth_grid = np.arange(1,21)\n",
        "min_samples_leaf_grid = np.arange(2,31,2)\n",
        "max_leaf_nodes_grid = np.arange(2,51,2)\n",
        "parameters = {'max_depth':depth_grid, 'min_samples_leaf':min_samples_leaf_grid, 'max_leaf_nodes':max_leaf_nodes_grid}"
      ]
    },
    {
      "cell_type": "code",
      "execution_count": 12,
      "metadata": {
        "id": "0pPDg-2mORHQ"
      },
      "outputs": [],
      "source": [
        "gridCV = GridSearchCV(DecisionTreeClassifier(), parameters, cv=10, n_jobs = -1)\n",
        "gridCV.fit(X_train, Y_train)\n",
        "best_depth = gridCV.best_params_['max_depth']\n",
        "best_min_samples_leaf = gridCV.best_params_['min_samples_leaf']\n",
        "best_max_leaf_nodes = gridCV.best_params_['max_leaf_nodes']"
      ]
    },
    {
      "cell_type": "code",
      "execution_count": null,
      "metadata": {
        "id": "39f6W84fORHQ",
        "outputId": "ece7e5ca-7274-4972-96bb-803cddb81bad"
      },
      "outputs": [
        {
          "name": "stdout",
          "output_type": "stream",
          "text": [
            "Tree best max_depth : 11\n",
            "Tree best min_samples_leaf : 4\n",
            "Tree best max_leaf_nodes : 50\n"
          ]
        }
      ],
      "source": [
        "print(\"Tree best max_depth : \" + str(best_depth))\n",
        "print(\"Tree best min_samples_leaf : \" + str(best_min_samples_leaf))\n",
        "print(\"Tree best max_leaf_nodes : \" + str(best_max_leaf_nodes))"
      ]
    },
    {
      "cell_type": "code",
      "execution_count": null,
      "metadata": {
        "id": "9--ZfUw_ORHR",
        "outputId": "0dc9ba19-a858-404b-f6dd-c8933d75504c"
      },
      "outputs": [
        {
          "name": "stdout",
          "output_type": "stream",
          "text": [
            "Tree best accuracy : 0.848\n"
          ]
        }
      ],
      "source": [
        "DTC_best = DecisionTreeClassifier(max_depth=best_depth,min_samples_leaf=best_min_samples_leaf,max_leaf_nodes=best_max_leaf_nodes)\n",
        "DTC_best.fit(X_train, Y_train)\n",
        "Y_pred = DTC_best.predict(X_test)\n",
        "print( \"Tree best accuracy : \" + str(np.round(metrics.accuracy_score(Y_test,Y_pred),3)))"
      ]
    },
    {
      "cell_type": "markdown",
      "metadata": {
        "id": "n61hzPGiORHR"
      },
      "source": [
        "#### 1.4. Classification with Random Forest (optimized hyperparameters):"
      ]
    },
    {
      "cell_type": "markdown",
      "metadata": {
        "id": "FXCdl_OWORHR"
      },
      "source": [
        "NOTE: We optimize only some of the hyperparameters due to time considerataion. Students are encouraged to explore."
      ]
    },
    {
      "cell_type": "code",
      "execution_count": null,
      "metadata": {
        "id": "PxZ2JaU8ORHR"
      },
      "outputs": [],
      "source": [
        "n_estimators_grid = np.arange(20, 50,5)\n",
        "depth_grid = np.arange(1, 10,2)\n",
        "min_samples_leaf_grid = np.arange(10,21,2)\n",
        "parameters = {'n_estimators': n_estimators_grid, 'max_depth': depth_grid, 'min_samples_leaf':min_samples_leaf_grid}\n",
        "gridCV = GridSearchCV(RandomForestClassifier(), param_grid=parameters, cv=10, n_jobs=-1)\n",
        "gridCV.fit(X_train, Y_train)\n",
        "best_n_estim = gridCV.best_params_['n_estimators']\n",
        "best_depth = gridCV.best_params_['max_depth']\n",
        "best_min_samples_leaf = gridCV.best_params_['min_samples_leaf']"
      ]
    },
    {
      "cell_type": "code",
      "execution_count": null,
      "metadata": {
        "id": "UfAMGt8NORHR",
        "outputId": "589dea4a-9bb3-4cfe-f684-434467bd867d"
      },
      "outputs": [
        {
          "name": "stdout",
          "output_type": "stream",
          "text": [
            "Random Forest best n_estimator : 45\n",
            "Random Forest best max_depth : 9\n",
            "Random Forest best min_samples_leaf : 12\n"
          ]
        }
      ],
      "source": [
        "print(\"Random Forest best n_estimator : \" + str(best_n_estim))\n",
        "print(\"Random Forest best max_depth : \" + str(best_depth))\n",
        "print(\"Random Forest best min_samples_leaf : \" + str(best_min_samples_leaf))"
      ]
    },
    {
      "cell_type": "code",
      "execution_count": null,
      "metadata": {
        "id": "TC_3cgXHORHR",
        "outputId": "9be74ee2-7e41-413c-db63-232697ceddff"
      },
      "outputs": [
        {
          "name": "stdout",
          "output_type": "stream",
          "text": [
            "Random Forest best accuracy : 0.935\n"
          ]
        }
      ],
      "source": [
        "RF_best = RandomForestClassifier(n_estimators=30,max_depth=best_depth,min_samples_leaf=best_min_samples_leaf,random_state=123)\n",
        "RF_best.fit(X_train, Y_train)\n",
        "Y_pred = RF_best.predict(X_test)\n",
        "print( \"Random Forest best accuracy : \" + str(np.round(metrics.accuracy_score(Y_test,Y_pred),3)))"
      ]
    },
    {
      "cell_type": "markdown",
      "metadata": {
        "id": "H3jberw_ORHS"
      },
      "source": [
        "#### 1.5. Classification with AdaBoost (optimized hyperparameters):"
      ]
    },
    {
      "cell_type": "markdown",
      "metadata": {
        "id": "5K01R4FFORHS"
      },
      "source": [
        "NOTE: We optimize only some of the hyperparameters due to time considerataion. Students are encouraged to explore."
      ]
    },
    {
      "cell_type": "code",
      "execution_count": null,
      "metadata": {
        "id": "pO5L7BhmORHS"
      },
      "outputs": [],
      "source": [
        "my_max_depth = 9                                               # Fixed.\n",
        "my_learn_rate = 0.01                                           # Fixed.\n",
        "n_estimators_grid = np.arange(50, 81, 5)\n",
        "parameters = {'n_estimators': n_estimators_grid}\n",
        "AB = AdaBoostClassifier(estimator=DecisionTreeClassifier(max_depth=my_max_depth), learning_rate=my_learn_rate)      # Instantiate an estimator.\n",
        "gridCV = GridSearchCV(AB, param_grid=parameters, cv=10, n_jobs = -1)\n",
        "gridCV.fit(X_train, Y_train)\n",
        "best_n_estim = gridCV.best_params_['n_estimators']"
      ]
    },
    {
      "cell_type": "code",
      "execution_count": null,
      "metadata": {
        "id": "xWc0iKtAORHS",
        "outputId": "43c4c21f-d505-4f49-9d71-84f3c59e7057"
      },
      "outputs": [
        {
          "name": "stdout",
          "output_type": "stream",
          "text": [
            "AdaBoost best n estimator : 60\n"
          ]
        }
      ],
      "source": [
        "print(\"AdaBoost best n estimator : \" + str(best_n_estim))"
      ]
    },
    {
      "cell_type": "code",
      "execution_count": null,
      "metadata": {
        "id": "-m6tOkkzORHS",
        "outputId": "47da622e-c0e6-4df9-e319-79bc75be6db2"
      },
      "outputs": [
        {
          "name": "stdout",
          "output_type": "stream",
          "text": [
            "AdaBoost best accuracy : 0.937\n"
          ]
        }
      ],
      "source": [
        "AB_best = AdaBoostClassifier(base_estimator=DecisionTreeClassifier(max_depth=my_max_depth),n_estimators=best_n_estim,learning_rate=my_learn_rate,random_state=123)\n",
        "AB_best.fit(X_train, Y_train)\n",
        "Y_pred = AB_best.predict(X_test)\n",
        "print( \"AdaBoost best accuracy : \" + str(np.round(metrics.accuracy_score(Y_test,Y_pred),3)))"
      ]
    },
    {
      "cell_type": "markdown",
      "metadata": {
        "id": "MShDSwhYORHS"
      },
      "source": [
        "# 2. Voting Ensemble:"
      ]
    },
    {
      "cell_type": "code",
      "execution_count": null,
      "metadata": {
        "tags": [],
        "id": "TpxXvTL6ORHS"
      },
      "outputs": [],
      "source": [
        "import numpy as np\n",
        "import pandas as pd\n",
        "import warnings\n",
        "from sklearn.model_selection import train_test_split\n",
        "from sklearn.tree import DecisionTreeClassifier\n",
        "from sklearn.neighbors import KNeighborsClassifier\n",
        "from sklearn.linear_model import LogisticRegression\n",
        "from sklearn.ensemble import VotingClassifier\n",
        "from sklearn import metrics\n",
        "from sklearn.datasets import load_breast_cancer\n",
        "warnings.filterwarnings(action='ignore')                  # Turn off the warnings."
      ]
    },
    {
      "cell_type": "markdown",
      "metadata": {
        "id": "pYd98pBzORHT"
      },
      "source": [
        "#### 2.1. Read in data:"
      ]
    },
    {
      "cell_type": "code",
      "execution_count": null,
      "metadata": {
        "tags": [],
        "id": "q5SIRCgIORHT"
      },
      "outputs": [],
      "source": [
        "# Load data.\n",
        "data = load_breast_cancer()"
      ]
    },
    {
      "cell_type": "code",
      "execution_count": null,
      "metadata": {
        "tags": [],
        "id": "h8XCleA_ORHT",
        "outputId": "2e52eaf1-b033-4957-b9c4-a30e902395bc"
      },
      "outputs": [
        {
          "name": "stdout",
          "output_type": "stream",
          "text": [
            "['mean radius' 'mean texture' 'mean perimeter' 'mean area'\n",
            " 'mean smoothness' 'mean compactness' 'mean concavity'\n",
            " 'mean concave points' 'mean symmetry' 'mean fractal dimension'\n",
            " 'radius error' 'texture error' 'perimeter error' 'area error'\n",
            " 'smoothness error' 'compactness error' 'concavity error'\n",
            " 'concave points error' 'symmetry error' 'fractal dimension error'\n",
            " 'worst radius' 'worst texture' 'worst perimeter' 'worst area'\n",
            " 'worst smoothness' 'worst compactness' 'worst concavity'\n",
            " 'worst concave points' 'worst symmetry' 'worst fractal dimension']\n"
          ]
        }
      ],
      "source": [
        "# Explanatory variables.\n",
        "X = data['data']\n",
        "print(data['feature_names'])"
      ]
    },
    {
      "cell_type": "code",
      "execution_count": null,
      "metadata": {
        "tags": [],
        "id": "D35RLGAfORHT",
        "outputId": "c2948738-97e6-4d14-ec23-794ef47a2918"
      },
      "outputs": [
        {
          "data": {
            "text/plain": [
              "(569, 30)"
            ]
          },
          "execution_count": 4,
          "metadata": {},
          "output_type": "execute_result"
        }
      ],
      "source": [
        "X.shape"
      ]
    },
    {
      "cell_type": "code",
      "execution_count": null,
      "metadata": {
        "tags": [],
        "id": "kE095JZvORHT",
        "outputId": "37af9ce8-a81a-4284-d991-42c64233470c"
      },
      "outputs": [
        {
          "name": "stdout",
          "output_type": "stream",
          "text": [
            "['benign', 'malignant']\n"
          ]
        }
      ],
      "source": [
        "# Response variable.\n",
        "# Relabel such that 0 = 'benign' and 1 = malignant.\n",
        "Y = 1 - data['target']\n",
        "label = list(data['target_names'])\n",
        "label.reverse()\n",
        "print(label)"
      ]
    },
    {
      "cell_type": "code",
      "execution_count": null,
      "metadata": {
        "tags": [],
        "id": "1uvvxkH1ORHT"
      },
      "outputs": [],
      "source": [
        "X_train, X_test, Y_train, Y_test = train_test_split(X, Y, test_size=0.3, random_state=1234)"
      ]
    },
    {
      "cell_type": "markdown",
      "metadata": {
        "id": "6uuHPnHaORHU"
      },
      "source": [
        "#### 2.2. Predicting with individual estimator:"
      ]
    },
    {
      "cell_type": "code",
      "execution_count": null,
      "metadata": {
        "tags": [],
        "id": "dNRv2R6CORHU",
        "outputId": "fb8c7017-4594-43b3-e22c-cee7b3df504d"
      },
      "outputs": [
        {
          "name": "stdout",
          "output_type": "stream",
          "text": [
            "Tree accuracy : 0.924\n"
          ]
        }
      ],
      "source": [
        "# Classification Tree.\n",
        "DTC = DecisionTreeClassifier(max_depth=10)\n",
        "DTC.fit(X_train, Y_train)\n",
        "Y_pred = DTC.predict(X_test)\n",
        "print( \"Tree accuracy : \" + str(np.round(metrics.accuracy_score(Y_test,Y_pred),3)))"
      ]
    },
    {
      "cell_type": "code",
      "execution_count": null,
      "metadata": {
        "tags": [],
        "id": "zWFABeK1ORHY",
        "outputId": "7c84948e-7818-4c39-a46f-edf0f9a76e7d"
      },
      "outputs": [
        {
          "name": "stdout",
          "output_type": "stream",
          "text": [
            "KNN accuracy : 0.936\n"
          ]
        }
      ],
      "source": [
        "# Classification with KNN\n",
        "KNN = KNeighborsClassifier(n_neighbors=5)\n",
        "KNN.fit(X_train, Y_train)\n",
        "Y_pred = KNN.predict(X_test)\n",
        "print( \"KNN accuracy : \" + str(np.round(metrics.accuracy_score(Y_test,Y_pred),3)))"
      ]
    },
    {
      "cell_type": "code",
      "execution_count": null,
      "metadata": {
        "tags": [],
        "id": "9ZXyoRHNORHY",
        "outputId": "3e4f3530-b664-488e-c5d6-1b2adc5f3a9a"
      },
      "outputs": [
        {
          "name": "stdout",
          "output_type": "stream",
          "text": [
            "Logistic regression accuracy : 0.918\n"
          ]
        }
      ],
      "source": [
        "# Classification with Logistic Regression.\n",
        "LR = LogisticRegression()\n",
        "LR.fit(X_train, Y_train)\n",
        "Y_pred = LR.predict(X_test)\n",
        "print( \"Logistic regression accuracy : \" + str(np.round(metrics.accuracy_score(Y_test,Y_pred),3)))"
      ]
    },
    {
      "cell_type": "markdown",
      "metadata": {
        "id": "11uWDGLfORHY"
      },
      "source": [
        "#### 2.3. Predicting with a voting ensemble:"
      ]
    },
    {
      "cell_type": "code",
      "execution_count": null,
      "metadata": {
        "tags": [],
        "id": "v5SNJLtuORHY",
        "outputId": "67cb7211-5636-47a2-af4c-e6a3c7b065eb"
      },
      "outputs": [
        {
          "name": "stdout",
          "output_type": "stream",
          "text": [
            "Voting Classifier Accuracy : 0.947\n"
          ]
        }
      ],
      "source": [
        "VC = VotingClassifier(estimators=[('Tree',DTC),('knn',KNN),('Logistic',LR)],voting='hard')             # voting = 'hard'.\n",
        "VC.fit(X_train, Y_train)\n",
        "Y_pred = VC.predict(X_test)\n",
        "print( \"Voting Classifier Accuracy : \" + str(np.round(metrics.accuracy_score(Y_test,Y_pred),3)))"
      ]
    },
    {
      "cell_type": "code",
      "execution_count": null,
      "metadata": {
        "tags": [],
        "id": "8a9Q5QLuORHY",
        "outputId": "cd6c9195-d4a5-47ac-a206-df36b5544bb4"
      },
      "outputs": [
        {
          "name": "stdout",
          "output_type": "stream",
          "text": [
            "Voting Classifier Accuracy : 0.953\n"
          ]
        }
      ],
      "source": [
        "VC = VotingClassifier(estimators=[('Tree',DTC),('knn',KNN),('Logistic',LR)],voting='soft')             # voting = 'soft'.\n",
        "VC.fit(X_train, Y_train)\n",
        "Y_pred = VC.predict(X_test)\n",
        "print( \"Voting Classifier Accuracy : \" + str(np.round(metrics.accuracy_score(Y_test,Y_pred),3)))"
      ]
    },
    {
      "cell_type": "code",
      "execution_count": null,
      "metadata": {
        "id": "Y1aDMedUORHZ"
      },
      "outputs": [],
      "source": []
    },
    {
      "cell_type": "markdown",
      "metadata": {
        "id": "FMZTJoXKORHZ"
      },
      "source": [
        "### 3. Bagging ensemble:"
      ]
    },
    {
      "cell_type": "code",
      "execution_count": null,
      "metadata": {
        "tags": [],
        "id": "A8iZmBjAORHZ",
        "outputId": "72f8f328-c773-4e42-b8b1-51788371d954"
      },
      "outputs": [
        {
          "name": "stdout",
          "output_type": "stream",
          "text": [
            "Collecting xgboost\n",
            "  Obtaining dependency information for xgboost from https://files.pythonhosted.org/packages/28/3c/ddf5d9eb742cdb7fbcd5c854bce07471bad01194ac37de91db64fbef0c58/xgboost-2.1.3-py3-none-macosx_12_0_arm64.whl.metadata\n",
            "  Downloading xgboost-2.1.3-py3-none-macosx_12_0_arm64.whl.metadata (2.1 kB)\n",
            "Requirement already satisfied: numpy in /Users/antoniocoelho/anaconda3/lib/python3.11/site-packages (from xgboost) (1.24.3)\n",
            "Requirement already satisfied: scipy in /Users/antoniocoelho/anaconda3/lib/python3.11/site-packages (from xgboost) (1.11.1)\n",
            "Downloading xgboost-2.1.3-py3-none-macosx_12_0_arm64.whl (1.9 MB)\n",
            "\u001b[2K   \u001b[90m━━━━━━━━━━━━━━━━━━━━━━━━━━━━━━━━━━━━━━━━\u001b[0m \u001b[32m1.9/1.9 MB\u001b[0m \u001b[31m2.8 MB/s\u001b[0m eta \u001b[36m0:00:00\u001b[0m00:01\u001b[0m00:01\u001b[0m\n",
            "\u001b[?25hInstalling collected packages: xgboost\n",
            "Successfully installed xgboost-2.1.3\n"
          ]
        }
      ],
      "source": [
        "# Install once.\n",
        "!pip install xgboost"
      ]
    },
    {
      "cell_type": "code",
      "execution_count": null,
      "metadata": {
        "tags": [],
        "id": "gRi_2PYGORHZ"
      },
      "outputs": [],
      "source": [
        "import numpy as np\n",
        "import pandas as pd\n",
        "import warnings\n",
        "import seaborn as sns\n",
        "import matplotlib.pyplot as plt\n",
        "from sklearn.model_selection import train_test_split,GridSearchCV\n",
        "from sklearn.tree import DecisionTreeClassifier\n",
        "from sklearn.ensemble import RandomForestClassifier,AdaBoostClassifier, GradientBoostingClassifier\n",
        "from xgboost import XGBClassifier\n",
        "from sklearn import metrics\n",
        "from sklearn.datasets import load_breast_cancer\n",
        "warnings.filterwarnings(action='ignore')                  # Turn off the warnings."
      ]
    },
    {
      "cell_type": "markdown",
      "metadata": {
        "id": "vnvspFx_ORHZ"
      },
      "source": [
        "#### 3.1. Read in data:"
      ]
    },
    {
      "cell_type": "code",
      "execution_count": null,
      "metadata": {
        "tags": [],
        "id": "r3C-ny1_ORHZ"
      },
      "outputs": [],
      "source": [
        "# Load data.\n",
        "data = load_breast_cancer()"
      ]
    },
    {
      "cell_type": "code",
      "execution_count": null,
      "metadata": {
        "tags": [],
        "id": "lVtLDnY7ORHZ",
        "outputId": "a9b57485-1409-4a32-acbe-eb5c3ca70231"
      },
      "outputs": [
        {
          "name": "stdout",
          "output_type": "stream",
          "text": [
            "['mean radius' 'mean texture' 'mean perimeter' 'mean area'\n",
            " 'mean smoothness' 'mean compactness' 'mean concavity'\n",
            " 'mean concave points' 'mean symmetry' 'mean fractal dimension'\n",
            " 'radius error' 'texture error' 'perimeter error' 'area error'\n",
            " 'smoothness error' 'compactness error' 'concavity error'\n",
            " 'concave points error' 'symmetry error' 'fractal dimension error'\n",
            " 'worst radius' 'worst texture' 'worst perimeter' 'worst area'\n",
            " 'worst smoothness' 'worst compactness' 'worst concavity'\n",
            " 'worst concave points' 'worst symmetry' 'worst fractal dimension']\n"
          ]
        }
      ],
      "source": [
        "# Explanatory variables.\n",
        "X = data['data']\n",
        "variable_names = data['feature_names']\n",
        "print(variable_names)"
      ]
    },
    {
      "cell_type": "code",
      "execution_count": null,
      "metadata": {
        "tags": [],
        "id": "GbKe2A8oORHa",
        "outputId": "005f7182-41ca-46f1-c669-84dcb95e385a"
      },
      "outputs": [
        {
          "data": {
            "text/plain": [
              "(569, 30)"
            ]
          },
          "execution_count": 7,
          "metadata": {},
          "output_type": "execute_result"
        }
      ],
      "source": [
        "X.shape"
      ]
    },
    {
      "cell_type": "code",
      "execution_count": null,
      "metadata": {
        "tags": [],
        "id": "EUnIAaoGORHa",
        "outputId": "09a37a53-2e82-4538-ca53-d41f21492e56"
      },
      "outputs": [
        {
          "name": "stdout",
          "output_type": "stream",
          "text": [
            "['benign', 'malignant']\n"
          ]
        }
      ],
      "source": [
        "# Response variable.\n",
        "# Relabel such that 0 = 'benign' and 1 = malignant.\n",
        "Y = 1 - data['target']\n",
        "label = list(data['target_names'])\n",
        "label.reverse()\n",
        "print(label)"
      ]
    },
    {
      "cell_type": "code",
      "execution_count": null,
      "metadata": {
        "tags": [],
        "id": "79-L4ygXORHa"
      },
      "outputs": [],
      "source": [
        "X_train, X_test, Y_train, Y_test = train_test_split(X, Y, test_size=0.3, random_state=1234)"
      ]
    },
    {
      "cell_type": "markdown",
      "metadata": {
        "id": "jhNs9c73ORHa"
      },
      "source": [
        "#### 3.2. Random Forest:"
      ]
    },
    {
      "cell_type": "code",
      "execution_count": null,
      "metadata": {
        "tags": [],
        "id": "R4YxX2hJORHa",
        "outputId": "3844bb9d-b87d-4bd8-a84f-afdcdc0095b8"
      },
      "outputs": [
        {
          "name": "stdout",
          "output_type": "stream",
          "text": [
            "Random Forest accuracy : 0.924\n"
          ]
        }
      ],
      "source": [
        "# Classification by Random Forest.\n",
        "RFC = RandomForestClassifier(n_estimators=100,max_depth=5,min_samples_leaf=2,random_state=123)\n",
        "RFC.fit(X_train, Y_train)\n",
        "Y_pred = RFC.predict(X_test)\n",
        "print( \"Random Forest accuracy : \" + str(np.round(metrics.accuracy_score(Y_test,Y_pred),3)))"
      ]
    },
    {
      "cell_type": "code",
      "execution_count": null,
      "metadata": {
        "tags": [],
        "id": "MUbuhSTbORHb",
        "outputId": "9278aabd-16db-4dae-b6f6-d6a6832e210f"
      },
      "outputs": [
        {
          "data": {
            "image/png": "[encoded data removed]",
            "text/plain": [
              "<Figure size 640x480 with 1 Axes>"
            ]
          },
          "metadata": {},
          "output_type": "display_data"
        }
      ],
      "source": [
        "# Display the top 10 most important variables.\n",
        "variable_importance = pd.Series(RFC.feature_importances_, index = variable_names)\n",
        "top_variables_10 = variable_importance.sort_values(ascending=False)[:10]\n",
        "sns.barplot(x=top_variables_10.values, y = top_variables_10.index, ci=None)\n",
        "plt.show()"
      ]
    },
    {
      "cell_type": "markdown",
      "metadata": {
        "id": "AphTTaV0ORHb"
      },
      "source": [
        "### 4. Boosting Ensemble:"
      ]
    },
    {
      "cell_type": "markdown",
      "metadata": {
        "id": "PC47WkMCORHb"
      },
      "source": [
        "#### 4.1.  AdaBoost:"
      ]
    },
    {
      "cell_type": "code",
      "execution_count": null,
      "metadata": {
        "tags": [],
        "id": "IiVieGLBORHc",
        "outputId": "f0746b39-f5eb-46b4-ea83-d32dfa8100df"
      },
      "outputs": [
        {
          "name": "stdout",
          "output_type": "stream",
          "text": [
            "AdaBoost accuracy : 0.924\n"
          ]
        }
      ],
      "source": [
        "# Classification by AdaBoost.\n",
        "ABC = AdaBoostClassifier(base_estimator=DecisionTreeClassifier(max_depth=10),n_estimators=100,learning_rate=0.01,random_state=123)\n",
        "ABC.fit(X_train, Y_train)\n",
        "Y_pred = ABC.predict(X_test)\n",
        "print( \"AdaBoost accuracy : \" + str(np.round(metrics.accuracy_score(Y_test,Y_pred),3)))"
      ]
    },
    {
      "cell_type": "code",
      "execution_count": null,
      "metadata": {
        "tags": [],
        "id": "PG3LfakQORHc",
        "outputId": "7b1e7496-d53b-4bc1-c909-cd7b0d7a4504"
      },
      "outputs": [
        {
          "data": {
            "image/png": "[encoded data removed]",
            "text/plain": [
              "<Figure size 640x480 with 1 Axes>"
            ]
          },
          "metadata": {},
          "output_type": "display_data"
        }
      ],
      "source": [
        "# Display the top 10 most important variables.\n",
        "variable_importance = pd.Series(ABC.feature_importances_, index = variable_names)\n",
        "top_variables_10 = variable_importance.sort_values(ascending=False)[:10]\n",
        "sns.barplot(x=top_variables_10.values, y = top_variables_10.index, ci=None)\n",
        "plt.show()"
      ]
    },
    {
      "cell_type": "markdown",
      "metadata": {
        "id": "F5w0AgufORHc"
      },
      "source": [
        "#### 4.2.  Gradient Boosting:"
      ]
    },
    {
      "cell_type": "code",
      "execution_count": null,
      "metadata": {
        "tags": [],
        "id": "PcZEbAphORHd",
        "outputId": "2b5fa8da-1ffc-4cab-95d8-5f4df6fb8cef"
      },
      "outputs": [
        {
          "name": "stdout",
          "output_type": "stream",
          "text": [
            "Gradient Boosting accuracy : 0.906\n"
          ]
        }
      ],
      "source": [
        "# Classification by Gradient Boosting.\n",
        "GBC = GradientBoostingClassifier(n_estimators=100,learning_rate=0.01,min_samples_leaf=2,max_leaf_nodes=30,random_state=123)\n",
        "GBC.fit(X_train, Y_train)\n",
        "Y_pred = GBC.predict(X_test)\n",
        "print( \"Gradient Boosting accuracy : \" + str(np.round(metrics.accuracy_score(Y_test,Y_pred),3)))"
      ]
    },
    {
      "cell_type": "code",
      "execution_count": null,
      "metadata": {
        "tags": [],
        "id": "c6zolMnrORHd",
        "outputId": "4ae34f31-d553-4f7d-b083-3c1391dfce35"
      },
      "outputs": [
        {
          "data": {
            "image/png": "[encoded data removed]",
            "text/plain": [
              "<Figure size 640x480 with 1 Axes>"
            ]
          },
          "metadata": {},
          "output_type": "display_data"
        }
      ],
      "source": [
        "# Display the top 10 most important variables.\n",
        "variable_importance = pd.Series(GBC.feature_importances_, index = variable_names)\n",
        "top_variables_10 = variable_importance.sort_values(ascending=False)[:10]\n",
        "sns.barplot(x=top_variables_10.values, y = top_variables_10.index, ci=None)\n",
        "plt.show()"
      ]
    },
    {
      "cell_type": "markdown",
      "metadata": {
        "id": "vTtZCBSeORHd"
      },
      "source": [
        "#### 4.3. XGBoost:"
      ]
    },
    {
      "cell_type": "code",
      "execution_count": null,
      "metadata": {
        "tags": [],
        "id": "AjnvCFRTORHe",
        "outputId": "24f15857-9dfa-4d4a-ad22-e043c3e58aaf"
      },
      "outputs": [
        {
          "name": "stdout",
          "output_type": "stream",
          "text": [
            "XGBoost accuracy : 0.942\n"
          ]
        }
      ],
      "source": [
        "# Classification by XGBoost.\n",
        "XGBC = XGBClassifier(n_estimator = 500, learning_Rate = 0.1, max_depth = 4, random_state=123)\n",
        "XGBC.fit(X_train, Y_train)\n",
        "Y_pred = XGBC.predict(X_test)\n",
        "print( \"XGBoost accuracy : \" + str(np.round(metrics.accuracy_score(Y_test,Y_pred),3)))"
      ]
    },
    {
      "cell_type": "code",
      "execution_count": null,
      "metadata": {
        "tags": [],
        "id": "U4ni-9OSORHe",
        "outputId": "87a4ad9e-ab7d-4e0a-8854-23701091f537"
      },
      "outputs": [
        {
          "data": {
            "image/png": "[encoded data removed]",
            "text/plain": [
              "<Figure size 640x480 with 1 Axes>"
            ]
          },
          "metadata": {},
          "output_type": "display_data"
        }
      ],
      "source": [
        "# Display the top 10 most important variables.\n",
        "variable_importance = pd.Series(XGBC.feature_importances_, index = variable_names)\n",
        "top_variables_10 = variable_importance.sort_values(ascending=False)[:10]\n",
        "sns.barplot(x=top_variables_10.values, y = top_variables_10.index, ci=None)\n",
        "plt.show()"
      ]
    },
    {
      "cell_type": "code",
      "execution_count": null,
      "metadata": {
        "id": "y00s-42cORHe"
      },
      "outputs": [],
      "source": []
    }
  ],
  "metadata": {
    "kernelspec": {
      "display_name": "Python 3 (ipykernel)",
      "language": "python",
      "name": "python3"
    },
    "language_info": {
      "codemirror_mode": {
        "name": "ipython",
        "version": 3
      },
      "file_extension": ".py",
      "mimetype": "text/x-python",
      "name": "python",
      "nbconvert_exporter": "python",
      "pygments_lexer": "ipython3",
      "version": "3.11.5"
    },
    "colab": {
      "provenance": []
    }
  },
  "nbformat": 4,
  "nbformat_minor": 0
}