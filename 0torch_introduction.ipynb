{
  "cells": [
    {
      "cell_type": "markdown",
      "metadata": {
        "id": "view-in-github",
        "colab_type": "text"
      },
      "source": [
        "<a href=\"https://colab.research.google.com/github/andrecamara2004/andrecamara2004.github.io/blob/main/0torch_introduction.ipynb\" target=\"_parent\"><img src=\"https://colab.research.google.com/assets/colab-badge.svg\" alt=\"Open In Colab\"/></a>"
      ]
    },
    {
      "metadata": {
        "id": "40e4b959cb62141a"
      },
      "cell_type": "markdown",
      "source": [
        "# Exercises Deep Learning\n",
        "First Lecture"
      ],
      "id": "40e4b959cb62141a"
    },
    {
      "metadata": {
        "id": "f843372da6ee2f0"
      },
      "cell_type": "markdown",
      "source": [
        "## Basic Tensor Operations\n"
      ],
      "id": "f843372da6ee2f0"
    },
    {
      "metadata": {
        "ExecuteTime": {
          "end_time": "2025-01-14T17:22:46.590064Z",
          "start_time": "2025-01-14T17:22:45.586928Z"
        },
        "id": "f59e02c1a624f6b9"
      },
      "cell_type": "code",
      "source": [
        "import torch\n",
        "import torch.nn as nn\n",
        "import numpy as np"
      ],
      "id": "f59e02c1a624f6b9",
      "outputs": [],
      "execution_count": 1
    },
    {
      "metadata": {
        "colab": {
          "base_uri": "https://localhost:8080/"
        },
        "id": "d6b1beb874f2d53c",
        "outputId": "740e53a7-19fa-4873-fd99-2a502fe23430"
      },
      "cell_type": "code",
      "source": [
        "x = torch.Tensor(2, 3, 4)\n",
        "print(x)"
      ],
      "id": "d6b1beb874f2d53c",
      "outputs": [
        {
          "output_type": "stream",
          "name": "stdout",
          "text": [
            "tensor([[[-9.8384e-20,  4.3408e-41, -1.8714e+01,  3.1941e-41],\n",
            "         [ 4.4842e-44,  0.0000e+00,  1.1210e-43,  0.0000e+00],\n",
            "         [ 4.5339e+10,  3.1948e-41,  0.0000e+00,  0.0000e+00]],\n",
            "\n",
            "        [[ 0.0000e+00,  0.0000e+00,  0.0000e+00,  0.0000e+00],\n",
            "         [ 0.0000e+00,  0.0000e+00,  0.0000e+00,  0.0000e+00],\n",
            "         [ 1.4013e-45,  0.0000e+00,  0.0000e+00,  0.0000e+00]]])\n"
          ]
        }
      ],
      "execution_count": 26
    },
    {
      "metadata": {
        "id": "be071422e88e2797"
      },
      "cell_type": "markdown",
      "source": [
        "Different ways to create tensors:\n",
        "- ```torch.zeros```: Creates a tensor filled with zeros\n",
        "- ```torch.ones```: Creates a tensor filled with ones\n",
        "- ```torch.rand```: Creates a tensor with random values uniformly sampled between 0 and 1\n",
        "- ```torch.randn```: Creates a tensor with random values sampled from a normal distribution with mean 0 and variance 1\n",
        "- ```torch.arange```: Creates a tensor containing the values\n",
        "- ```torch.Tensor``` (input list): Creates a tensor from the list elements you provide"
      ],
      "id": "be071422e88e2797"
    },
    {
      "metadata": {
        "id": "652bfdd9d01d2cab"
      },
      "cell_type": "markdown",
      "source": [
        "You can obtain the shape of a tensor in the same way as in numpy (```x.shape```), or using the ```.size``` method:"
      ],
      "id": "652bfdd9d01d2cab"
    },
    {
      "metadata": {
        "colab": {
          "base_uri": "https://localhost:8080/"
        },
        "id": "3a5aba3abc981603",
        "outputId": "cee05a19-eda1-493e-9207-c1a45de06d52"
      },
      "cell_type": "code",
      "source": [
        "shape = x.shape\n",
        "print(\"Shape:\", x.shape)\n",
        "\n",
        "size = x.size()\n",
        "print(\"Size:\", size)\n",
        "\n",
        "dim1, dim2, dim3 = x.size()\n",
        "print(\"Size:\", dim1, dim2, dim3)"
      ],
      "id": "3a5aba3abc981603",
      "outputs": [
        {
          "output_type": "stream",
          "name": "stdout",
          "text": [
            "Shape: torch.Size([2, 3, 4])\n",
            "Size: torch.Size([2, 3, 4])\n",
            "Size: 2 3 4\n"
          ]
        }
      ],
      "execution_count": 3
    },
    {
      "metadata": {
        "id": "1919de243a31992c"
      },
      "cell_type": "markdown",
      "source": [
        "Tensor to Numpy, and Numpy to Tensor\n"
      ],
      "id": "1919de243a31992c"
    },
    {
      "metadata": {
        "colab": {
          "base_uri": "https://localhost:8080/"
        },
        "id": "788bf302f6590378",
        "outputId": "d0d4003d-d38f-44c9-a7d0-8f32b876c74b"
      },
      "cell_type": "code",
      "source": [
        "np_arr = np.array([[1, 2], [3, 4]])\n",
        "tensor = torch.from_numpy(np_arr)\n",
        "\n",
        "print(\"Numpy array:\", np_arr)\n",
        "print(\"PyTorch tensor:\", tensor)"
      ],
      "id": "788bf302f6590378",
      "outputs": [
        {
          "output_type": "stream",
          "name": "stdout",
          "text": [
            "Numpy array: [[1 2]\n",
            " [3 4]]\n",
            "PyTorch tensor: tensor([[1, 2],\n",
            "        [3, 4]])\n"
          ]
        }
      ],
      "execution_count": 4
    },
    {
      "metadata": {
        "colab": {
          "base_uri": "https://localhost:8080/"
        },
        "id": "20199e8a5e016e34",
        "outputId": "893b752e-1106-48eb-8cad-9f1eecee5fc7"
      },
      "cell_type": "code",
      "source": [
        "tensor = torch.arange(4)\n",
        "np_arr = tensor.numpy()\n",
        "\n",
        "print(\"PyTorch tensor:\", tensor)\n",
        "print(\"Numpy array:\", np_arr)"
      ],
      "id": "20199e8a5e016e34",
      "outputs": [
        {
          "output_type": "stream",
          "name": "stdout",
          "text": [
            "PyTorch tensor: tensor([0, 1, 2, 3])\n",
            "Numpy array: [0 1 2 3]\n"
          ]
        }
      ],
      "execution_count": 5
    },
    {
      "metadata": {
        "id": "f0e78a94d4c6a5f4"
      },
      "cell_type": "markdown",
      "source": [
        "Matrix multiplication"
      ],
      "id": "f0e78a94d4c6a5f4"
    },
    {
      "metadata": {
        "colab": {
          "base_uri": "https://localhost:8080/"
        },
        "id": "6e97615c75ea0e62",
        "outputId": "f52bd41d-0ae9-45df-daaa-46f8e308d9dd"
      },
      "cell_type": "code",
      "source": [
        "x = torch.arange(6)\n",
        "x = x.view(2, 3)\n",
        "print(\"X\", x)"
      ],
      "id": "6e97615c75ea0e62",
      "outputs": [
        {
          "output_type": "stream",
          "name": "stdout",
          "text": [
            "X tensor([[0, 1, 2],\n",
            "        [3, 4, 5]])\n"
          ]
        }
      ],
      "execution_count": 6
    },
    {
      "metadata": {
        "colab": {
          "base_uri": "https://localhost:8080/"
        },
        "id": "d8c106a45680668e",
        "outputId": "ddb410e5-b1c8-4cde-bbed-cd8834809a63"
      },
      "cell_type": "code",
      "source": [
        "W = torch.arange(9).view(3, 3) # We can also stack multiple operations in a single line\n",
        "print(\"W\", W)"
      ],
      "id": "d8c106a45680668e",
      "outputs": [
        {
          "output_type": "stream",
          "name": "stdout",
          "text": [
            "W tensor([[0, 1, 2],\n",
            "        [3, 4, 5],\n",
            "        [6, 7, 8]])\n"
          ]
        }
      ],
      "execution_count": 7
    },
    {
      "metadata": {
        "colab": {
          "base_uri": "https://localhost:8080/"
        },
        "id": "1272a65d6ae9200e",
        "outputId": "9e354a3a-636f-44a5-bd67-9b96ee4e4473"
      },
      "cell_type": "code",
      "source": [
        "h = torch.matmul(x, W) # Verify the result by calculating it by hand too!\n",
        "print(\"h\", h)"
      ],
      "id": "1272a65d6ae9200e",
      "outputs": [
        {
          "output_type": "stream",
          "name": "stdout",
          "text": [
            "h tensor([[15, 18, 21],\n",
            "        [42, 54, 66]])\n"
          ]
        }
      ],
      "execution_count": 8
    },
    {
      "metadata": {
        "id": "721ec6774f26fb13"
      },
      "cell_type": "markdown",
      "source": [
        " ### What about gpus?\n",
        "\n",
        "When you create a tensor the tensor is ready to be computed by the cpu. To convert the tensor you can use ```.to()```\n",
        "passing to the function \"cuda\" or \"cpu\" as needed"
      ],
      "id": "721ec6774f26fb13"
    },
    {
      "metadata": {
        "id": "3b57528335dc0269"
      },
      "cell_type": "markdown",
      "source": [
        "#### How do I know if I have cuda cores on my computer?\n",
        "To solve this you can check with torch if cuda is available:"
      ],
      "id": "3b57528335dc0269"
    },
    {
      "metadata": {
        "colab": {
          "base_uri": "https://localhost:8080/"
        },
        "id": "38113a46a272b80a",
        "outputId": "5361b9a0-bb92-451e-c147-1de04b3c184a"
      },
      "cell_type": "code",
      "source": [
        "example_tensor = torch.rand(2,2)\n",
        "if torch.cuda.is_available():\n",
        "    print(\"CUDA is available. You can use GPU for PyTorch.\")\n",
        "    example_tensor.to(\"cuda\")\n",
        "else:\n",
        "    print(\"CUDA is not available. Using CPU for PyTorch.\")\n",
        "    example_tensor.to(\"cpu\")"
      ],
      "id": "38113a46a272b80a",
      "outputs": [
        {
          "output_type": "stream",
          "name": "stdout",
          "text": [
            "CUDA is not available. Using CPU for PyTorch.\n"
          ]
        }
      ],
      "execution_count": 9
    },
    {
      "metadata": {
        "id": "8127a2bc83ad170a"
      },
      "cell_type": "markdown",
      "source": [
        "### Exercises"
      ],
      "id": "8127a2bc83ad170a"
    },
    {
      "metadata": {
        "id": "dbbe4a9ddaf9b81d"
      },
      "cell_type": "markdown",
      "source": [
        "#### 1. Create two tensors"
      ],
      "id": "dbbe4a9ddaf9b81d"
    },
    {
      "metadata": {
        "id": "964101079da9badd"
      },
      "cell_type": "markdown",
      "source": [
        "   - A 3x3 tensor of random numbers.\n",
        "   - A 3x3 tensor filled with ones."
      ],
      "id": "964101079da9badd"
    },
    {
      "metadata": {
        "id": "83e1b2cdb8bade78"
      },
      "cell_type": "code",
      "source": [
        "a = torch.rand(3,3)\n",
        "b = torch.ones(3,3)\n"
      ],
      "id": "83e1b2cdb8bade78",
      "outputs": [],
      "execution_count": 10
    },
    {
      "metadata": {
        "id": "a271b3d5fb87c50b"
      },
      "cell_type": "markdown",
      "source": [
        "#### 2. Perform the following operations"
      ],
      "id": "a271b3d5fb87c50b"
    },
    {
      "metadata": {
        "id": "db794d8774eae177"
      },
      "cell_type": "markdown",
      "source": [
        "- Add the two tensors.\n",
        "- Multiply the two tensors element-wise.\n",
        "- Compute the dot product between the first row of both tensors.\n",
        " - Find the transpose of the resulting tensor from the element-wise multiplication."
      ],
      "id": "db794d8774eae177"
    },
    {
      "metadata": {
        "colab": {
          "base_uri": "https://localhost:8080/"
        },
        "id": "406bfe0aed2719b2",
        "outputId": "369cfa15-7377-4976-b9f6-3adb1333d339"
      },
      "cell_type": "code",
      "source": [
        "#add the two sensors\n",
        "add = a + b\n",
        "print(add)\n",
        "#multiply the two sensores element-wise\n",
        "multiply = a * b\n",
        "print(multiply)\n",
        "#compute the dot product between the first row of both tensors\n",
        "dot_product = torch.dot(a[0], b[0])\n",
        "print(dot_product)"
      ],
      "id": "406bfe0aed2719b2",
      "outputs": [
        {
          "output_type": "stream",
          "name": "stdout",
          "text": [
            "tensor([[1.6507, 1.8458, 1.5287],\n",
            "        [1.8784, 1.4132, 1.7012],\n",
            "        [1.7594, 1.3103, 1.2015]])\n",
            "tensor([[0.6507, 0.8458, 0.5287],\n",
            "        [0.8784, 0.4132, 0.7012],\n",
            "        [0.7594, 0.3103, 0.2015]])\n",
            "tensor(2.0253)\n"
          ]
        }
      ],
      "execution_count": 11
    },
    {
      "metadata": {
        "id": "a57afe90005dc29a"
      },
      "cell_type": "markdown",
      "source": [
        "#### 3. Convert the resulting tensor to a NumPy array and back to a PyTorch tensor."
      ],
      "id": "a57afe90005dc29a"
    },
    {
      "metadata": {
        "colab": {
          "base_uri": "https://localhost:8080/"
        },
        "id": "182f70f0737cff3e",
        "outputId": "83eae4d1-0165-426e-a93e-1e7c5615472d"
      },
      "cell_type": "code",
      "source": [
        "#Convert the resulting tensor to a NumPy array and back to a PyTorch tensor.\n",
        "numpy_array = add.numpy()\n",
        "print(numpy_array)\n",
        "pytorch_tensor = torch.from_numpy(numpy_array)\n",
        "print(pytorch_tensor)"
      ],
      "id": "182f70f0737cff3e",
      "outputs": [
        {
          "output_type": "stream",
          "name": "stdout",
          "text": [
            "[[1.6507107 1.8458431 1.5287322]\n",
            " [1.8783845 1.4131838 1.701165 ]\n",
            " [1.7593975 1.3103219 1.2015214]]\n",
            "tensor([[1.6507, 1.8458, 1.5287],\n",
            "        [1.8784, 1.4132, 1.7012],\n",
            "        [1.7594, 1.3103, 1.2015]])\n"
          ]
        }
      ],
      "execution_count": 12
    },
    {
      "metadata": {
        "id": "589117b4a2e3f7cb"
      },
      "cell_type": "markdown",
      "source": [
        "## Autograd"
      ],
      "id": "589117b4a2e3f7cb"
    },
    {
      "metadata": {
        "id": "a16d9efcf227bb68"
      },
      "cell_type": "markdown",
      "source": [
        "1. Create Tensors"
      ],
      "id": "a16d9efcf227bb68"
    },
    {
      "metadata": {
        "id": "be5673134b6e6eec"
      },
      "cell_type": "code",
      "source": [
        "x_a = torch.tensor(0., requires_grad=True)\n",
        "x_b = torch.tensor(0., requires_grad=True)\n",
        "w_a = torch.tensor(0.9, requires_grad=True)\n",
        "w_b = torch.tensor(0.9, requires_grad=True)\n",
        "\n",
        "y = torch.tensor(0., requires_grad=False)"
      ],
      "id": "be5673134b6e6eec",
      "outputs": [],
      "execution_count": 13
    },
    {
      "metadata": {
        "id": "1db0554422da0a80"
      },
      "cell_type": "markdown",
      "source": [
        "2. Build a computation graph"
      ],
      "id": "1db0554422da0a80"
    },
    {
      "metadata": {
        "id": "35fad594fa32a16c"
      },
      "cell_type": "code",
      "source": [
        "weighted_a = w_a * x_a\n",
        "weighted_b = w_b * x_b\n",
        "sum_unit = weighted_a + weighted_b"
      ],
      "id": "35fad594fa32a16c",
      "outputs": [],
      "execution_count": 14
    },
    {
      "metadata": {
        "id": "89b928ece0981eb0"
      },
      "cell_type": "markdown",
      "source": [
        "3. Activation Function\n",
        "\n",
        "For a simple approach as ease of replication by hand we will this activation function:"
      ],
      "id": "89b928ece0981eb0"
    },
    {
      "metadata": {
        "id": "cc171048fa0f693d"
      },
      "cell_type": "code",
      "source": [
        "y_hat = torch.sigmoid(sum_unit)"
      ],
      "id": "cc171048fa0f693d",
      "outputs": [],
      "execution_count": 15
    },
    {
      "metadata": {
        "id": "25082a0d8778158f"
      },
      "cell_type": "markdown",
      "source": [
        "4. Calculate Loss"
      ],
      "id": "25082a0d8778158f"
    },
    {
      "metadata": {
        "id": "fea378f48b561f17"
      },
      "cell_type": "code",
      "source": [
        "loss = torch.nn.BCELoss()\n",
        "output = loss(y_hat, y)"
      ],
      "id": "fea378f48b561f17",
      "outputs": [],
      "execution_count": 16
    },
    {
      "metadata": {
        "id": "da4b00ba9c0d510c"
      },
      "cell_type": "markdown",
      "source": [
        "5. Calculate gradients"
      ],
      "id": "da4b00ba9c0d510c"
    },
    {
      "metadata": {
        "id": "59e67123bb0c02f9"
      },
      "cell_type": "code",
      "source": [
        "output.backward()"
      ],
      "id": "59e67123bb0c02f9",
      "outputs": [],
      "execution_count": 17
    },
    {
      "metadata": {
        "id": "d2607801d848cb5a"
      },
      "cell_type": "markdown",
      "source": [
        "6.Print out the gradients"
      ],
      "id": "d2607801d848cb5a"
    },
    {
      "metadata": {
        "colab": {
          "base_uri": "https://localhost:8080/"
        },
        "id": "fe7b458d47eeedab",
        "outputId": "2ca93ae4-0829-456b-e627-64a55a059d8e"
      },
      "cell_type": "code",
      "source": [
        "print(x_a.grad)\n",
        "print(x_b.grad)\n",
        "print(w_a.grad)\n",
        "print(w_b.grad)"
      ],
      "id": "fe7b458d47eeedab",
      "outputs": [
        {
          "output_type": "stream",
          "name": "stdout",
          "text": [
            "tensor(0.4500)\n",
            "tensor(0.4500)\n",
            "tensor(0.)\n",
            "tensor(0.)\n"
          ]
        }
      ],
      "execution_count": 18
    },
    {
      "metadata": {
        "id": "e479bfbd78c7d3e7"
      },
      "cell_type": "markdown",
      "source": [
        "### Training Loop"
      ],
      "id": "e479bfbd78c7d3e7"
    },
    {
      "metadata": {
        "ExecuteTime": {
          "end_time": "2025-01-14T17:22:49.794682Z",
          "start_time": "2025-01-14T17:22:49.788011Z"
        },
        "id": "5e7d26b57cd49c3e"
      },
      "cell_type": "code",
      "source": [
        "learning_rate = 0.1\n",
        "epochs = 100\n",
        "\n",
        "input_data = torch.tensor([[0, 0], [0, 1], [1, 0], [1, 1]], dtype=torch.float32)\n",
        "target_data = torch.tensor([[0], [0], [0], [1]], dtype=torch.float32)"
      ],
      "id": "5e7d26b57cd49c3e",
      "outputs": [],
      "execution_count": 19
    },
    {
      "metadata": {
        "ExecuteTime": {
          "end_time": "2025-01-14T17:22:50.655971Z",
          "start_time": "2025-01-14T17:22:50.652999Z"
        },
        "id": "122d9dbb9d32cab2"
      },
      "cell_type": "code",
      "source": [
        "class ANDGateModel(nn.Module):\n",
        "    def __init__(self):\n",
        "        super(ANDGateModel, self).__init__()\n",
        "        self.linear = nn.Linear(2, 1,bias=True)\n",
        "\n",
        "    def forward(self, x):\n",
        "        x = self.linear(x)\n",
        "        x = torch.sigmoid(x)\n",
        "        return x\n"
      ],
      "id": "122d9dbb9d32cab2",
      "outputs": [],
      "execution_count": 20
    },
    {
      "metadata": {
        "ExecuteTime": {
          "end_time": "2025-01-14T17:24:38.411499Z",
          "start_time": "2025-01-14T17:24:38.375069Z"
        },
        "colab": {
          "base_uri": "https://localhost:8080/"
        },
        "id": "99ae9c0e028670fe",
        "outputId": "0af7dc3f-a6d2-4480-99f8-cff793a44c56"
      },
      "cell_type": "code",
      "source": [
        "# Initialize the model\n",
        "model = ANDGateModel()\n",
        "\n",
        "# Loss function (Binary Cross-Entropy Loss)\n",
        "loss_fn = torch.nn.BCELoss()\n",
        "\n",
        "# Optimizer (Stochastic Gradient Descent)\n",
        "optimizer = torch.optim.Adam(model.parameters(), lr=learning_rate)\n",
        "\n",
        "# Training loop\n",
        "for epoch in range(epochs):\n",
        "    y_hat = model(input_data)\n",
        "    loss = loss_fn(y_hat, target_data)\n",
        "\n",
        "\n",
        "    loss.backward() # Backpropagation\n",
        "    optimizer.step() # Update parameters using the optimizer\n",
        "    optimizer.zero_grad() # Zero the gradients for the next iteration\n",
        "\n",
        "    # Print loss and progress every 1000 epochs\n",
        "    if (epoch + 1) % 100 == 0:\n",
        "        print(f\"Epoch {epoch + 1}/{epochs}, Loss: {loss.item():.4f}\")\n",
        "\n",
        "# Final weights and bias (optional)\n",
        "print(f\"Final weights: {model.linear.weight.data}\")\n",
        "print(f\"Final bias: {model.linear.bias.data}\")\n",
        "\n",
        "# Test the AND gate\n",
        "with torch.no_grad():\n",
        "    for i in range(len(input_data)):\n",
        "        x_a, x_b = input_data[i]\n",
        "        y_hat = model(torch.tensor([[x_a, x_b]]))  # Model expects a batch\n",
        "        print(f\"Input: {input_data[i].numpy()} -> Predicted Output: {round(y_hat.item())}, Raw Output: {y_hat.item():.4f}\")\n"
      ],
      "id": "99ae9c0e028670fe",
      "outputs": [
        {
          "output_type": "stream",
          "name": "stdout",
          "text": [
            "Epoch 100/100, Loss: 0.0892\n",
            "Final weights: tensor([[4.1687, 4.1354]])\n",
            "Final bias: tensor([-6.2613])\n",
            "Input: [0. 0.] -> Predicted Output: 0, Raw Output: 0.0019\n",
            "Input: [0. 1.] -> Predicted Output: 0, Raw Output: 0.1066\n",
            "Input: [1. 0.] -> Predicted Output: 0, Raw Output: 0.1098\n",
            "Input: [1. 1.] -> Predicted Output: 1, Raw Output: 0.8852\n"
          ]
        }
      ],
      "execution_count": 21
    },
    {
      "metadata": {
        "id": "18785f163f5d7904"
      },
      "cell_type": "markdown",
      "source": [
        "!!! IMPORTANT: This example has a significant issue: the test set is the same as the training set.\n",
        "This approach is used here solely for ease of explanation and should never be used in a production environment.!!!"
      ],
      "id": "18785f163f5d7904"
    },
    {
      "metadata": {
        "id": "38d64492b0a9f095"
      },
      "cell_type": "markdown",
      "source": [
        "### Exercises"
      ],
      "id": "38d64492b0a9f095"
    },
    {
      "metadata": {
        "id": "4a64599701c601b"
      },
      "cell_type": "markdown",
      "source": [
        "#### 1.Replicate the OR Gate using a Neural Network\n",
        " Objective:\n",
        "- Train a neural network to approximate the function of an OR gate.\n",
        "- Compare how changing the weights or biases impacts the output of the network.\n",
        "\n",
        "Input 1 | Input 2 | Output (OR)\n",
        "| -- | -- | --|\n",
        "0 | 0 | 0\n",
        "0 | 1 | 1\n",
        "1 | 0 | 1\n",
        "1 | 1 | 1\n",
        "\n",
        "1. Create the dataset\n",
        "2. Replicate the architecture from the AND gate example\n",
        "3. Change the loss function from Binary Cross-Entropy to Mean Squared Error"
      ],
      "id": "4a64599701c601b"
    },
    {
      "metadata": {
        "colab": {
          "base_uri": "https://localhost:8080/"
        },
        "id": "a197f7d767d46a18",
        "outputId": "74413089-0d15-43d0-d011-baf1d1476ab7"
      },
      "cell_type": "code",
      "source": [
        "#Create the dataset\n",
        "x_a = torch.tensor(0., requires_grad=True)\n",
        "x_b = torch.tensor(0., requires_grad=True)\n",
        "w_a = torch.tensor(0.9, requires_grad=True)\n",
        "w_b = torch.tensor(0.9, requires_grad=True)\n",
        "\n",
        "y = torch.tensor(0., requires_grad=False)\n",
        "\n",
        "learning_rate = 0.1\n",
        "epochs = 100\n",
        "\n",
        "input_data = torch.tensor([[0, 0], [0, 1], [1, 0], [1, 1]], dtype=torch.float32)\n",
        "target_data = torch.tensor([[0], [1], [1], [1]], dtype=torch.float32)\n",
        "\n",
        "class ORGateModel(nn.Module):\n",
        "    def __init__(self):\n",
        "        super(ORGateModel, self).__init__()\n",
        "        self.linear = nn.Linear(2, 1,bias=True)\n",
        "\n",
        "    def forward(self, x):\n",
        "        x = self.linear(x)\n",
        "        x = torch.sigmoid(x)\n",
        "        return x\n",
        "\n",
        "model = ORGateModel()\n",
        "\n",
        "loss_fn = torch.nn.MSELoss()\n",
        "\n",
        "optimizer = torch.optim.Adam(model.parameters(), lr=learning_rate)\n",
        "\n",
        "for epoch in range(epochs):\n",
        "    y_hat = model(input_data)\n",
        "    loss = loss_fn(y_hat, target_data)\n",
        "\n",
        "    loss.backward()\n",
        "    optimizer.step()\n",
        "    optimizer.zero_grad()\n",
        "    if (epoch + 1) % 100 == 0:\n",
        "        print(f\"Epoch {epoch + 1}/{epochs}, Loss: {loss.item():.4f}\")\n",
        "\n",
        "# Final weights and bias (optional)\n",
        "print(f\"Final weights: {model.linear.weight.data}\")\n",
        "print(f\"Final bias: {model.linear.bias.data}\")\n",
        "\n",
        "# Test the OR gate\n",
        "with torch.no_grad():\n",
        "    for i in range(len(input_data)):\n",
        "        x_a, x_b = input_data[i]\n",
        "        y_hat = model(torch.tensor([[x_a, x_b]]))  # Model expects a batch\n",
        "        print(f\"Input: {input_data[i].numpy()} -> Predicted Output: {round(y_hat.item())}, Raw Output: {y_hat.item():.4f}\")\n"
      ],
      "id": "a197f7d767d46a18",
      "outputs": [
        {
          "output_type": "stream",
          "name": "stdout",
          "text": [
            "Epoch 100/100, Loss: 0.0124\n",
            "Final weights: tensor([[3.7077, 3.8749]])\n",
            "Final bias: tensor([-1.6081])\n",
            "Input: [0. 0.] -> Predicted Output: 0, Raw Output: 0.1668\n",
            "Input: [0. 1.] -> Predicted Output: 1, Raw Output: 0.9061\n",
            "Input: [1. 0.] -> Predicted Output: 1, Raw Output: 0.8909\n",
            "Input: [1. 1.] -> Predicted Output: 1, Raw Output: 0.9975\n"
          ]
        }
      ],
      "execution_count": 30
    },
    {
      "metadata": {
        "id": "7c401a9cd9bd0be5"
      },
      "cell_type": "code",
      "source": [
        "# https://pytorch.org/docs/stable/generated/torch.nn.MSELoss.html"
      ],
      "id": "7c401a9cd9bd0be5",
      "outputs": [],
      "execution_count": null
    },
    {
      "metadata": {
        "id": "86fc0ab91a8ed899"
      },
      "cell_type": "markdown",
      "source": [
        "#### 2. Build and train a network\n",
        "1. Build a simple fully connected neural network with the following architecture:\n",
        "    - Input layer with 2 units\n",
        "    - Hidden layer with 4 units and ReLU activation\n",
        "    - Output layer with 1 unit\n",
        "2. Define the following loss function and optimizer:\n",
        "    - Loss: Mean Squared Error (MSE)\n",
        "    - Optimizer: Stochastic Gradient Descent (SGD)\n",
        "\n",
        "The network should mimic $y = 2x_1 + 3x_2$, where $x_1$ and $x_2$ are random inputs"
      ],
      "id": "86fc0ab91a8ed899"
    },
    {
      "metadata": {
        "colab": {
          "base_uri": "https://localhost:8080/"
        },
        "id": "8faceb73b3024932",
        "outputId": "ff6dc6d2-93c0-4aad-e60d-d82a0c47242e"
      },
      "cell_type": "code",
      "source": [
        "import torch\n",
        "import torch.nn as nn\n",
        "import torch.optim as optim\n",
        "from sklearn.model_selection import train_test_split\n",
        "\n",
        "# Define the neural network\n",
        "class SimpleNet(nn.Module):\n",
        "    def __init__(self):\n",
        "        super(SimpleNet, self).__init__()\n",
        "        # Define layers here\n",
        "        self.layer1 = nn.Linear(2, 4)\n",
        "        self.activation_function = nn.ReLU()\n",
        "        self.layer2 = nn.Linear(4, 1)\n",
        "\n",
        "    def forward(self, x):\n",
        "        # Define forward pass\n",
        "        x = self.layer1(x)\n",
        "        x = self.activation_function(x)\n",
        "        x = self.layer2(x)\n",
        "        return x\n",
        "\n",
        "# Create synthetic data\n",
        "x = torch.rand(100, 2)\n",
        "y = 2 * x[:, 0] + 3 * x[:, 1]\n",
        "y = y.view(-1, 1)\n",
        "\n",
        "# Split data into training and test sets (80% train, 20% test)\n",
        "x_train, x_test, y_train, y_test = train_test_split(x, y, test_size=0.2)\n",
        "\n",
        "# Initialize the model, loss function, and optimizer\n",
        "model = SimpleNet()\n",
        "criterion = nn.MSELoss()\n",
        "learning_rate = 0.1\n",
        "optimizer = optim.SGD(model.parameters(), lr = learning_rate)\n",
        "\n",
        "# Training loop\n",
        "for epoch in range(100):\n",
        "    model.train()\n",
        "\n",
        "    # Forward pass\n",
        "    y_pred = model(x_train)\n",
        "\n",
        "    # Compute loss\n",
        "    loss = criterion(y_pred, y_train)\n",
        "\n",
        "    # Backward pass and optimization\n",
        "    optimizer.zero_grad()\n",
        "    loss.backward()\n",
        "    optimizer.step()\n",
        "\n",
        "    if (epoch+1) % 10 == 0:\n",
        "        print(f'Epoch {epoch+1}, Loss: {loss.item()}')\n",
        "\n",
        "model.eval()  # Set the model to evaluation mode\n",
        "with torch.no_grad():\n",
        "    y_test_pred = model(x_test)  # Get predictions for the test set\n",
        "    test_loss = criterion(y_test_pred, y_test)  # Compute test loss\n",
        "\n",
        "    print(f'Test Loss: {test_loss.item()}')\n",
        "\n",
        "# Show some final predictions\n",
        "print(\"Final Predictions (first 5 test samples):\")\n",
        "for i in range(5):\n",
        "    print(f\"Predicted: {y_test_pred[i].item():.4f}, Actual: {y_test[i].item():.4f}\")\n",
        "\n"
      ],
      "id": "8faceb73b3024932",
      "outputs": [
        {
          "output_type": "stream",
          "name": "stdout",
          "text": [
            "Epoch 10, Loss: 0.6862486600875854\n",
            "Epoch 20, Loss: 0.440171480178833\n",
            "Epoch 30, Loss: 0.24748635292053223\n",
            "Epoch 40, Loss: 0.11522605270147324\n",
            "Epoch 50, Loss: 0.04388982430100441\n",
            "Epoch 60, Loss: 0.014136085286736488\n",
            "Epoch 70, Loss: 0.0041162497363984585\n",
            "Epoch 80, Loss: 0.0011946780141443014\n",
            "Epoch 90, Loss: 0.0004114166949875653\n",
            "Epoch 100, Loss: 0.00020959044923074543\n",
            "Test Loss: 8.787450497038662e-05\n",
            "Final Predictions (first 5 test samples):\n",
            "Predicted: 2.0264, Actual: 2.0417\n",
            "Predicted: 2.2170, Actual: 2.2060\n",
            "Predicted: 3.0017, Actual: 3.0053\n",
            "Predicted: 3.9368, Actual: 3.9283\n",
            "Predicted: 3.2188, Actual: 3.2303\n"
          ]
        }
      ],
      "execution_count": 34
    }
  ],
  "metadata": {
    "kernelspec": {
      "display_name": "Python 3",
      "language": "python",
      "name": "python3"
    },
    "language_info": {
      "codemirror_mode": {
        "name": "ipython",
        "version": 2
      },
      "file_extension": ".py",
      "mimetype": "text/x-python",
      "name": "python",
      "nbconvert_exporter": "python",
      "pygments_lexer": "ipython2",
      "version": "2.7.6"
    },
    "colab": {
      "provenance": [],
      "include_colab_link": true
    }
  },
  "nbformat": 4,
  "nbformat_minor": 5
}